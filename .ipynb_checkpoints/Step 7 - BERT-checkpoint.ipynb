{
 "cells": [
  {
   "cell_type": "code",
   "execution_count": 1,
   "metadata": {
    "_cell_guid": "b1076dfc-b9ad-4769-8c92-a6c4dae69d19",
    "_uuid": "8f2839f25d086af736a60e9eeb907d3b93b6e0e5",
    "execution": {
     "iopub.execute_input": "2024-01-15T09:40:17.625838Z",
     "iopub.status.busy": "2024-01-15T09:40:17.625144Z",
     "iopub.status.idle": "2024-01-15T09:40:35.668496Z",
     "shell.execute_reply": "2024-01-15T09:40:35.667300Z",
     "shell.execute_reply.started": "2024-01-15T09:40:17.625786Z"
    }
   },
   "outputs": [],
   "source": [
    "import pandas as pd\n",
    "import numpy as np\n",
    "from tqdm.auto import tqdm\n",
    "import tensorflow as tf\n",
    "from transformers import BertTokenizer"
   ]
  },
  {
   "cell_type": "code",
   "execution_count": 2,
   "metadata": {
    "execution": {
     "iopub.execute_input": "2024-01-15T09:40:37.955026Z",
     "iopub.status.busy": "2024-01-15T09:40:37.954073Z",
     "iopub.status.idle": "2024-01-15T09:40:40.009936Z",
     "shell.execute_reply": "2024-01-15T09:40:40.008001Z",
     "shell.execute_reply.started": "2024-01-15T09:40:37.954973Z"
    }
   },
   "outputs": [
    {
     "data": {
      "text/html": [
       "<div>\n",
       "<style scoped>\n",
       "    .dataframe tbody tr th:only-of-type {\n",
       "        vertical-align: middle;\n",
       "    }\n",
       "\n",
       "    .dataframe tbody tr th {\n",
       "        vertical-align: top;\n",
       "    }\n",
       "\n",
       "    .dataframe thead th {\n",
       "        text-align: right;\n",
       "    }\n",
       "</style>\n",
       "<table border=\"1\" class=\"dataframe\">\n",
       "  <thead>\n",
       "    <tr style=\"text-align: right;\">\n",
       "      <th></th>\n",
       "      <th>sentence</th>\n",
       "      <th>hate</th>\n",
       "      <th>category</th>\n",
       "      <th>token</th>\n",
       "      <th>vec</th>\n",
       "      <th>psudo_label</th>\n",
       "    </tr>\n",
       "  </thead>\n",
       "  <tbody>\n",
       "    <tr>\n",
       "      <th>0</th>\n",
       "      <td>দিনের বাচ্চা কই বালই হয়ই</td>\n",
       "      <td>-1</td>\n",
       "      <td>religion</td>\n",
       "      <td>['দিনের', 'বাচ্চা', 'কই', 'বালই', 'হয়ই']</td>\n",
       "      <td>[-2.70244231e-02  2.00643005e-01  3.61602905e-...</td>\n",
       "      <td>1</td>\n",
       "    </tr>\n",
       "    <tr>\n",
       "      <th>1</th>\n",
       "      <td>এইমাগিআগেথেকেবাইরেখাওয়ারঅববাস এককলায়মাগিরহয়না</td>\n",
       "      <td>-1</td>\n",
       "      <td>crime</td>\n",
       "      <td>['এইমাগিআগেথেকেবাইরেখাওয়ারঅববাস', 'এককলায়মাগির...</td>\n",
       "      <td>[0. 0. 0. 0. 0. 0. 0. 0. 0. 0. 0. 0. 0. 0. 0. ...</td>\n",
       "      <td>0</td>\n",
       "    </tr>\n",
       "    <tr>\n",
       "      <th>2</th>\n",
       "      <td>মঝা দুইজনে করছো সাস্থি দুইজনে পেতে স্যারের দুশ...</td>\n",
       "      <td>-1</td>\n",
       "      <td>crime</td>\n",
       "      <td>['মঝা', 'দুইজনে', 'করছো', 'সাস্থি', 'দুইজনে', ...</td>\n",
       "      <td>[-0.01142999  0.07491128  0.01610502  0.047364...</td>\n",
       "      <td>-1</td>\n",
       "    </tr>\n",
       "    <tr>\n",
       "      <th>3</th>\n",
       "      <td>ভিড়িও টা ভালো লাগল</td>\n",
       "      <td>0</td>\n",
       "      <td>religion</td>\n",
       "      <td>['ভিড়িও', 'টা', 'ভালো', 'লাগল']</td>\n",
       "      <td>[-0.03091348  0.28345488  0.05813488  0.170068...</td>\n",
       "      <td>0</td>\n",
       "    </tr>\n",
       "    <tr>\n",
       "      <th>4</th>\n",
       "      <td>খেলোয়াড়দের বাংলাদেশের খেলোয়াড়দের সাদিনতা নাই!এ...</td>\n",
       "      <td>-1</td>\n",
       "      <td>sports</td>\n",
       "      <td>['খেলোয়াড়দের', 'বাংলাদেশের', 'খেলোয়াড়দের', 'সা...</td>\n",
       "      <td>[-0.02181379  0.1577958   0.03383988  0.098523...</td>\n",
       "      <td>0</td>\n",
       "    </tr>\n",
       "  </tbody>\n",
       "</table>\n",
       "</div>"
      ],
      "text/plain": [
       "                                            sentence  hate  category  \\\n",
       "0                           দিনের বাচ্চা কই বালই হয়ই    -1  religion   \n",
       "1      এইমাগিআগেথেকেবাইরেখাওয়ারঅববাস এককলায়মাগিরহয়না    -1     crime   \n",
       "2  মঝা দুইজনে করছো সাস্থি দুইজনে পেতে স্যারের দুশ...    -1     crime   \n",
       "3                                 ভিড়িও টা ভালো লাগল     0  religion   \n",
       "4  খেলোয়াড়দের বাংলাদেশের খেলোয়াড়দের সাদিনতা নাই!এ...    -1    sports   \n",
       "\n",
       "                                               token  \\\n",
       "0           ['দিনের', 'বাচ্চা', 'কই', 'বালই', 'হয়ই']   \n",
       "1  ['এইমাগিআগেথেকেবাইরেখাওয়ারঅববাস', 'এককলায়মাগির...   \n",
       "2  ['মঝা', 'দুইজনে', 'করছো', 'সাস্থি', 'দুইজনে', ...   \n",
       "3                    ['ভিড়িও', 'টা', 'ভালো', 'লাগল']   \n",
       "4  ['খেলোয়াড়দের', 'বাংলাদেশের', 'খেলোয়াড়দের', 'সা...   \n",
       "\n",
       "                                                 vec  psudo_label  \n",
       "0  [-2.70244231e-02  2.00643005e-01  3.61602905e-...            1  \n",
       "1  [0. 0. 0. 0. 0. 0. 0. 0. 0. 0. 0. 0. 0. 0. 0. ...            0  \n",
       "2  [-0.01142999  0.07491128  0.01610502  0.047364...           -1  \n",
       "3  [-0.03091348  0.28345488  0.05813488  0.170068...            0  \n",
       "4  [-0.02181379  0.1577958   0.03383988  0.098523...            0  "
      ]
     },
     "execution_count": 2,
     "metadata": {},
     "output_type": "execute_result"
    }
   ],
   "source": [
    "df = pd.read_csv('/kaggle/input/psudo-labeled-svc/psudo_labeled_svc.csv')\n",
    "df.head()"
   ]
  },
  {
   "cell_type": "code",
   "execution_count": 3,
   "metadata": {
    "execution": {
     "iopub.execute_input": "2024-01-15T09:40:40.012887Z",
     "iopub.status.busy": "2024-01-15T09:40:40.012386Z",
     "iopub.status.idle": "2024-01-15T09:40:40.021403Z",
     "shell.execute_reply": "2024-01-15T09:40:40.020091Z",
     "shell.execute_reply.started": "2024-01-15T09:40:40.012842Z"
    }
   },
   "outputs": [
    {
     "data": {
      "text/plain": [
       "(16262, 6)"
      ]
     },
     "execution_count": 3,
     "metadata": {},
     "output_type": "execute_result"
    }
   ],
   "source": [
    "df.shape"
   ]
  },
  {
   "cell_type": "code",
   "execution_count": 4,
   "metadata": {
    "execution": {
     "iopub.execute_input": "2024-01-15T09:40:40.023441Z",
     "iopub.status.busy": "2024-01-15T09:40:40.023075Z",
     "iopub.status.idle": "2024-01-15T09:40:40.046537Z",
     "shell.execute_reply": "2024-01-15T09:40:40.045371Z",
     "shell.execute_reply.started": "2024-01-15T09:40:40.023409Z"
    }
   },
   "outputs": [
    {
     "data": {
      "text/html": [
       "<div>\n",
       "<style scoped>\n",
       "    .dataframe tbody tr th:only-of-type {\n",
       "        vertical-align: middle;\n",
       "    }\n",
       "\n",
       "    .dataframe tbody tr th {\n",
       "        vertical-align: top;\n",
       "    }\n",
       "\n",
       "    .dataframe thead th {\n",
       "        text-align: right;\n",
       "    }\n",
       "</style>\n",
       "<table border=\"1\" class=\"dataframe\">\n",
       "  <thead>\n",
       "    <tr style=\"text-align: right;\">\n",
       "      <th></th>\n",
       "      <th>sentence</th>\n",
       "      <th>psudo_label</th>\n",
       "    </tr>\n",
       "  </thead>\n",
       "  <tbody>\n",
       "    <tr>\n",
       "      <th>0</th>\n",
       "      <td>দিনের বাচ্চা কই বালই হয়ই</td>\n",
       "      <td>1</td>\n",
       "    </tr>\n",
       "    <tr>\n",
       "      <th>1</th>\n",
       "      <td>এইমাগিআগেথেকেবাইরেখাওয়ারঅববাস এককলায়মাগিরহয়না</td>\n",
       "      <td>0</td>\n",
       "    </tr>\n",
       "    <tr>\n",
       "      <th>2</th>\n",
       "      <td>মঝা দুইজনে করছো সাস্থি দুইজনে পেতে স্যারের দুশ...</td>\n",
       "      <td>-1</td>\n",
       "    </tr>\n",
       "    <tr>\n",
       "      <th>3</th>\n",
       "      <td>ভিড়িও টা ভালো লাগল</td>\n",
       "      <td>0</td>\n",
       "    </tr>\n",
       "    <tr>\n",
       "      <th>4</th>\n",
       "      <td>খেলোয়াড়দের বাংলাদেশের খেলোয়াড়দের সাদিনতা নাই!এ...</td>\n",
       "      <td>0</td>\n",
       "    </tr>\n",
       "  </tbody>\n",
       "</table>\n",
       "</div>"
      ],
      "text/plain": [
       "                                            sentence  psudo_label\n",
       "0                           দিনের বাচ্চা কই বালই হয়ই            1\n",
       "1      এইমাগিআগেথেকেবাইরেখাওয়ারঅববাস এককলায়মাগিরহয়না            0\n",
       "2  মঝা দুইজনে করছো সাস্থি দুইজনে পেতে স্যারের দুশ...           -1\n",
       "3                                 ভিড়িও টা ভালো লাগল            0\n",
       "4  খেলোয়াড়দের বাংলাদেশের খেলোয়াড়দের সাদিনতা নাই!এ...            0"
      ]
     },
     "execution_count": 4,
     "metadata": {},
     "output_type": "execute_result"
    }
   ],
   "source": [
    "df = df.drop(['hate', 'category', 'vec', 'token'], axis=1)\n",
    "df.head()"
   ]
  },
  {
   "cell_type": "code",
   "execution_count": 5,
   "metadata": {
    "execution": {
     "iopub.execute_input": "2024-01-15T09:40:40.048803Z",
     "iopub.status.busy": "2024-01-15T09:40:40.048485Z",
     "iopub.status.idle": "2024-01-15T09:40:40.059858Z",
     "shell.execute_reply": "2024-01-15T09:40:40.058681Z",
     "shell.execute_reply.started": "2024-01-15T09:40:40.048775Z"
    }
   },
   "outputs": [
    {
     "data": {
      "text/html": [
       "<div>\n",
       "<style scoped>\n",
       "    .dataframe tbody tr th:only-of-type {\n",
       "        vertical-align: middle;\n",
       "    }\n",
       "\n",
       "    .dataframe tbody tr th {\n",
       "        vertical-align: top;\n",
       "    }\n",
       "\n",
       "    .dataframe thead th {\n",
       "        text-align: right;\n",
       "    }\n",
       "</style>\n",
       "<table border=\"1\" class=\"dataframe\">\n",
       "  <thead>\n",
       "    <tr style=\"text-align: right;\">\n",
       "      <th></th>\n",
       "      <th>sentence</th>\n",
       "      <th>hate</th>\n",
       "    </tr>\n",
       "  </thead>\n",
       "  <tbody>\n",
       "    <tr>\n",
       "      <th>0</th>\n",
       "      <td>দিনের বাচ্চা কই বালই হয়ই</td>\n",
       "      <td>1</td>\n",
       "    </tr>\n",
       "    <tr>\n",
       "      <th>1</th>\n",
       "      <td>এইমাগিআগেথেকেবাইরেখাওয়ারঅববাস এককলায়মাগিরহয়না</td>\n",
       "      <td>0</td>\n",
       "    </tr>\n",
       "    <tr>\n",
       "      <th>2</th>\n",
       "      <td>মঝা দুইজনে করছো সাস্থি দুইজনে পেতে স্যারের দুশ...</td>\n",
       "      <td>-1</td>\n",
       "    </tr>\n",
       "    <tr>\n",
       "      <th>3</th>\n",
       "      <td>ভিড়িও টা ভালো লাগল</td>\n",
       "      <td>0</td>\n",
       "    </tr>\n",
       "    <tr>\n",
       "      <th>4</th>\n",
       "      <td>খেলোয়াড়দের বাংলাদেশের খেলোয়াড়দের সাদিনতা নাই!এ...</td>\n",
       "      <td>0</td>\n",
       "    </tr>\n",
       "  </tbody>\n",
       "</table>\n",
       "</div>"
      ],
      "text/plain": [
       "                                            sentence  hate\n",
       "0                           দিনের বাচ্চা কই বালই হয়ই     1\n",
       "1      এইমাগিআগেথেকেবাইরেখাওয়ারঅববাস এককলায়মাগিরহয়না     0\n",
       "2  মঝা দুইজনে করছো সাস্থি দুইজনে পেতে স্যারের দুশ...    -1\n",
       "3                                 ভিড়িও টা ভালো লাগল     0\n",
       "4  খেলোয়াড়দের বাংলাদেশের খেলোয়াড়দের সাদিনতা নাই!এ...     0"
      ]
     },
     "execution_count": 5,
     "metadata": {},
     "output_type": "execute_result"
    }
   ],
   "source": [
    "df.rename(columns={'psudo_label':'hate'}, inplace=True)\n",
    "df.head()"
   ]
  },
  {
   "cell_type": "code",
   "execution_count": 6,
   "metadata": {
    "execution": {
     "iopub.execute_input": "2024-01-15T09:40:40.305647Z",
     "iopub.status.busy": "2024-01-15T09:40:40.305242Z",
     "iopub.status.idle": "2024-01-15T09:40:40.313849Z",
     "shell.execute_reply": "2024-01-15T09:40:40.312619Z",
     "shell.execute_reply.started": "2024-01-15T09:40:40.305614Z"
    }
   },
   "outputs": [],
   "source": [
    "df = df[df['hate']!=-1]"
   ]
  },
  {
   "cell_type": "code",
   "execution_count": 7,
   "metadata": {
    "execution": {
     "iopub.execute_input": "2024-01-15T09:40:40.895828Z",
     "iopub.status.busy": "2024-01-15T09:40:40.895122Z",
     "iopub.status.idle": "2024-01-15T09:40:40.905360Z",
     "shell.execute_reply": "2024-01-15T09:40:40.904143Z",
     "shell.execute_reply.started": "2024-01-15T09:40:40.895792Z"
    }
   },
   "outputs": [
    {
     "data": {
      "text/html": [
       "<div>\n",
       "<style scoped>\n",
       "    .dataframe tbody tr th:only-of-type {\n",
       "        vertical-align: middle;\n",
       "    }\n",
       "\n",
       "    .dataframe tbody tr th {\n",
       "        vertical-align: top;\n",
       "    }\n",
       "\n",
       "    .dataframe thead th {\n",
       "        text-align: right;\n",
       "    }\n",
       "</style>\n",
       "<table border=\"1\" class=\"dataframe\">\n",
       "  <thead>\n",
       "    <tr style=\"text-align: right;\">\n",
       "      <th></th>\n",
       "      <th>sentence</th>\n",
       "      <th>hate</th>\n",
       "    </tr>\n",
       "  </thead>\n",
       "  <tbody>\n",
       "    <tr>\n",
       "      <th>0</th>\n",
       "      <td>দিনের বাচ্চা কই বালই হয়ই</td>\n",
       "      <td>1</td>\n",
       "    </tr>\n",
       "    <tr>\n",
       "      <th>1</th>\n",
       "      <td>এইমাগিআগেথেকেবাইরেখাওয়ারঅববাস এককলায়মাগিরহয়না</td>\n",
       "      <td>0</td>\n",
       "    </tr>\n",
       "    <tr>\n",
       "      <th>3</th>\n",
       "      <td>ভিড়িও টা ভালো লাগল</td>\n",
       "      <td>0</td>\n",
       "    </tr>\n",
       "    <tr>\n",
       "      <th>4</th>\n",
       "      <td>খেলোয়াড়দের বাংলাদেশের খেলোয়াড়দের সাদিনতা নাই!এ...</td>\n",
       "      <td>0</td>\n",
       "    </tr>\n",
       "    <tr>\n",
       "      <th>5</th>\n",
       "      <td>মাগিরে মাগির পুলারে দুইটারেই ডিম থ্যারাপি</td>\n",
       "      <td>1</td>\n",
       "    </tr>\n",
       "  </tbody>\n",
       "</table>\n",
       "</div>"
      ],
      "text/plain": [
       "                                            sentence  hate\n",
       "0                           দিনের বাচ্চা কই বালই হয়ই     1\n",
       "1      এইমাগিআগেথেকেবাইরেখাওয়ারঅববাস এককলায়মাগিরহয়না     0\n",
       "3                                 ভিড়িও টা ভালো লাগল     0\n",
       "4  খেলোয়াড়দের বাংলাদেশের খেলোয়াড়দের সাদিনতা নাই!এ...     0\n",
       "5          মাগিরে মাগির পুলারে দুইটারেই ডিম থ্যারাপি     1"
      ]
     },
     "execution_count": 7,
     "metadata": {},
     "output_type": "execute_result"
    }
   ],
   "source": [
    "df.head()"
   ]
  },
  {
   "cell_type": "code",
   "execution_count": 8,
   "metadata": {
    "execution": {
     "iopub.execute_input": "2024-01-15T09:40:41.480899Z",
     "iopub.status.busy": "2024-01-15T09:40:41.480516Z",
     "iopub.status.idle": "2024-01-15T09:40:41.487812Z",
     "shell.execute_reply": "2024-01-15T09:40:41.486773Z",
     "shell.execute_reply.started": "2024-01-15T09:40:41.480867Z"
    }
   },
   "outputs": [
    {
     "data": {
      "text/plain": [
       "(14629, 2)"
      ]
     },
     "execution_count": 8,
     "metadata": {},
     "output_type": "execute_result"
    }
   ],
   "source": [
    "df.shape"
   ]
  },
  {
   "cell_type": "code",
   "execution_count": 9,
   "metadata": {
    "execution": {
     "iopub.execute_input": "2024-01-15T09:40:42.049185Z",
     "iopub.status.busy": "2024-01-15T09:40:42.048771Z",
     "iopub.status.idle": "2024-01-15T09:40:42.062984Z",
     "shell.execute_reply": "2024-01-15T09:40:42.061719Z",
     "shell.execute_reply.started": "2024-01-15T09:40:42.049149Z"
    }
   },
   "outputs": [
    {
     "data": {
      "text/plain": [
       "hate\n",
       "0    8101\n",
       "1    6528\n",
       "Name: count, dtype: int64"
      ]
     },
     "execution_count": 9,
     "metadata": {},
     "output_type": "execute_result"
    }
   ],
   "source": [
    "df['hate'].value_counts()"
   ]
  },
  {
   "cell_type": "code",
   "execution_count": 10,
   "metadata": {
    "execution": {
     "iopub.execute_input": "2024-01-15T09:40:42.637597Z",
     "iopub.status.busy": "2024-01-15T09:40:42.637181Z",
     "iopub.status.idle": "2024-01-15T09:40:42.664463Z",
     "shell.execute_reply": "2024-01-15T09:40:42.663245Z",
     "shell.execute_reply.started": "2024-01-15T09:40:42.637561Z"
    }
   },
   "outputs": [
    {
     "name": "stdout",
     "output_type": "stream",
     "text": [
      "<class 'pandas.core.frame.DataFrame'>\n",
      "Index: 14629 entries, 0 to 16261\n",
      "Data columns (total 2 columns):\n",
      " #   Column    Non-Null Count  Dtype \n",
      "---  ------    --------------  ----- \n",
      " 0   sentence  14629 non-null  object\n",
      " 1   hate      14629 non-null  int64 \n",
      "dtypes: int64(1), object(1)\n",
      "memory usage: 342.9+ KB\n"
     ]
    }
   ],
   "source": [
    "df.info()"
   ]
  },
  {
   "cell_type": "code",
   "execution_count": 11,
   "metadata": {
    "execution": {
     "iopub.execute_input": "2024-01-15T09:40:43.226998Z",
     "iopub.status.busy": "2024-01-15T09:40:43.226602Z",
     "iopub.status.idle": "2024-01-15T09:40:44.685791Z",
     "shell.execute_reply": "2024-01-15T09:40:44.684650Z",
     "shell.execute_reply.started": "2024-01-15T09:40:43.226965Z"
    }
   },
   "outputs": [
    {
     "data": {
      "application/vnd.jupyter.widget-view+json": {
       "model_id": "fe1f8835787a46c7866a28e537c81e0b",
       "version_major": 2,
       "version_minor": 0
      },
      "text/plain": [
       "vocab.txt:   0%|          | 0.00/2.24M [00:00<?, ?B/s]"
      ]
     },
     "metadata": {},
     "output_type": "display_data"
    },
    {
     "data": {
      "application/vnd.jupyter.widget-view+json": {
       "model_id": "b49acb6bdd884d85a12b60287ec66774",
       "version_major": 2,
       "version_minor": 0
      },
      "text/plain": [
       "config.json:   0%|          | 0.00/638 [00:00<?, ?B/s]"
      ]
     },
     "metadata": {},
     "output_type": "display_data"
    }
   ],
   "source": [
    "tokenizer = BertTokenizer.from_pretrained('Kowsher/bangla-bert')"
   ]
  },
  {
   "cell_type": "code",
   "execution_count": 12,
   "metadata": {
    "execution": {
     "iopub.execute_input": "2024-01-15T09:40:44.689603Z",
     "iopub.status.busy": "2024-01-15T09:40:44.688352Z",
     "iopub.status.idle": "2024-01-15T09:40:44.696430Z",
     "shell.execute_reply": "2024-01-15T09:40:44.694712Z",
     "shell.execute_reply.started": "2024-01-15T09:40:44.689550Z"
    }
   },
   "outputs": [],
   "source": [
    "X_input_ids = np.zeros((len(df), 256))\n",
    "X_attn_masks = np.zeros((len(df), 256))"
   ]
  },
  {
   "cell_type": "code",
   "execution_count": 13,
   "metadata": {
    "execution": {
     "iopub.execute_input": "2024-01-15T09:40:44.698430Z",
     "iopub.status.busy": "2024-01-15T09:40:44.697936Z",
     "iopub.status.idle": "2024-01-15T09:40:44.707947Z",
     "shell.execute_reply": "2024-01-15T09:40:44.706978Z",
     "shell.execute_reply.started": "2024-01-15T09:40:44.698365Z"
    }
   },
   "outputs": [],
   "source": [
    "def generate_training_data(df, ids, masks, tokenizer):\n",
    "    for i, text in tqdm(enumerate(df['sentence'])):\n",
    "        tokenized_text = tokenizer.encode_plus(\n",
    "            text,\n",
    "            max_length=256, \n",
    "            truncation=True, \n",
    "            padding='max_length', \n",
    "            add_special_tokens=True,\n",
    "            return_tensors='tf'\n",
    "        )\n",
    "        ids[i, :] = tokenized_text.input_ids\n",
    "        masks[i, :] = tokenized_text.attention_mask\n",
    "    return ids, masks"
   ]
  },
  {
   "cell_type": "code",
   "execution_count": 14,
   "metadata": {
    "execution": {
     "iopub.execute_input": "2024-01-15T09:40:45.002188Z",
     "iopub.status.busy": "2024-01-15T09:40:45.001773Z",
     "iopub.status.idle": "2024-01-15T09:40:55.638651Z",
     "shell.execute_reply": "2024-01-15T09:40:55.637380Z",
     "shell.execute_reply.started": "2024-01-15T09:40:45.002154Z"
    }
   },
   "outputs": [
    {
     "data": {
      "application/vnd.jupyter.widget-view+json": {
       "model_id": "94a26648e1f846ddaea56770a13ef4e8",
       "version_major": 2,
       "version_minor": 0
      },
      "text/plain": [
       "0it [00:00, ?it/s]"
      ]
     },
     "metadata": {},
     "output_type": "display_data"
    }
   ],
   "source": [
    "X_input_ids, X_attn_masks = generate_training_data(df, X_input_ids, X_attn_masks, tokenizer)"
   ]
  },
  {
   "cell_type": "code",
   "execution_count": 15,
   "metadata": {
    "execution": {
     "iopub.execute_input": "2024-01-15T09:40:55.641147Z",
     "iopub.status.busy": "2024-01-15T09:40:55.640754Z",
     "iopub.status.idle": "2024-01-15T09:40:55.650102Z",
     "shell.execute_reply": "2024-01-15T09:40:55.647892Z",
     "shell.execute_reply.started": "2024-01-15T09:40:55.641113Z"
    }
   },
   "outputs": [
    {
     "data": {
      "text/plain": [
       "(14629, 2)"
      ]
     },
     "execution_count": 15,
     "metadata": {},
     "output_type": "execute_result"
    }
   ],
   "source": [
    "labels = np.zeros((len(df), 2))\n",
    "labels.shape"
   ]
  },
  {
   "cell_type": "code",
   "execution_count": 16,
   "metadata": {
    "execution": {
     "iopub.execute_input": "2024-01-15T09:40:55.651969Z",
     "iopub.status.busy": "2024-01-15T09:40:55.651536Z",
     "iopub.status.idle": "2024-01-15T09:40:55.688818Z",
     "shell.execute_reply": "2024-01-15T09:40:55.687580Z",
     "shell.execute_reply.started": "2024-01-15T09:40:55.651904Z"
    }
   },
   "outputs": [],
   "source": [
    "labels[np.arange(len(df)), df['hate'].values] = 1 # one-hot encoded target tensor"
   ]
  },
  {
   "cell_type": "code",
   "execution_count": 17,
   "metadata": {
    "execution": {
     "iopub.execute_input": "2024-01-15T09:40:55.691700Z",
     "iopub.status.busy": "2024-01-15T09:40:55.691111Z",
     "iopub.status.idle": "2024-01-15T09:40:55.700462Z",
     "shell.execute_reply": "2024-01-15T09:40:55.699313Z",
     "shell.execute_reply.started": "2024-01-15T09:40:55.691663Z"
    }
   },
   "outputs": [
    {
     "data": {
      "text/plain": [
       "array([[0., 1.],\n",
       "       [1., 0.],\n",
       "       [1., 0.],\n",
       "       ...,\n",
       "       [1., 0.],\n",
       "       [0., 1.],\n",
       "       [0., 1.]])"
      ]
     },
     "execution_count": 17,
     "metadata": {},
     "output_type": "execute_result"
    }
   ],
   "source": [
    "labels"
   ]
  },
  {
   "cell_type": "code",
   "execution_count": 18,
   "metadata": {
    "execution": {
     "iopub.execute_input": "2024-01-15T09:40:55.701972Z",
     "iopub.status.busy": "2024-01-15T09:40:55.701648Z",
     "iopub.status.idle": "2024-01-15T09:40:55.831071Z",
     "shell.execute_reply": "2024-01-15T09:40:55.829791Z",
     "shell.execute_reply.started": "2024-01-15T09:40:55.701943Z"
    }
   },
   "outputs": [
    {
     "data": {
      "text/plain": [
       "<_TakeDataset element_spec=(TensorSpec(shape=(256,), dtype=tf.float64, name=None), TensorSpec(shape=(256,), dtype=tf.float64, name=None), TensorSpec(shape=(2,), dtype=tf.float64, name=None))>"
      ]
     },
     "execution_count": 18,
     "metadata": {},
     "output_type": "execute_result"
    }
   ],
   "source": [
    "# creating a data pipeline using tensorflow dataset utility, creates batches of data for easy loading...\n",
    "dataset = tf.data.Dataset.from_tensor_slices((X_input_ids, X_attn_masks, labels))\n",
    "dataset.take(1) # one sample data"
   ]
  },
  {
   "cell_type": "code",
   "execution_count": 19,
   "metadata": {
    "execution": {
     "iopub.execute_input": "2024-01-15T09:40:55.834107Z",
     "iopub.status.busy": "2024-01-15T09:40:55.832937Z",
     "iopub.status.idle": "2024-01-15T09:40:55.839644Z",
     "shell.execute_reply": "2024-01-15T09:40:55.838482Z",
     "shell.execute_reply.started": "2024-01-15T09:40:55.834059Z"
    }
   },
   "outputs": [],
   "source": [
    "def MapFunction(input_ids, attn_masks, labels):\n",
    "    return {\n",
    "        'input_ids': input_ids,\n",
    "        'attention_mask': attn_masks\n",
    "    }, labels"
   ]
  },
  {
   "cell_type": "code",
   "execution_count": 20,
   "metadata": {
    "execution": {
     "iopub.execute_input": "2024-01-15T09:40:55.841826Z",
     "iopub.status.busy": "2024-01-15T09:40:55.841276Z",
     "iopub.status.idle": "2024-01-15T09:40:55.902311Z",
     "shell.execute_reply": "2024-01-15T09:40:55.901460Z",
     "shell.execute_reply.started": "2024-01-15T09:40:55.841785Z"
    }
   },
   "outputs": [],
   "source": [
    "dataset = dataset.map(MapFunction) # converting to required format for tensorflow dataset"
   ]
  },
  {
   "cell_type": "code",
   "execution_count": 21,
   "metadata": {
    "execution": {
     "iopub.execute_input": "2024-01-15T09:40:55.904262Z",
     "iopub.status.busy": "2024-01-15T09:40:55.903407Z",
     "iopub.status.idle": "2024-01-15T09:40:55.911395Z",
     "shell.execute_reply": "2024-01-15T09:40:55.910338Z",
     "shell.execute_reply.started": "2024-01-15T09:40:55.904227Z"
    }
   },
   "outputs": [
    {
     "data": {
      "text/plain": [
       "<_TakeDataset element_spec=({'input_ids': TensorSpec(shape=(256,), dtype=tf.float64, name=None), 'attention_mask': TensorSpec(shape=(256,), dtype=tf.float64, name=None)}, TensorSpec(shape=(2,), dtype=tf.float64, name=None))>"
      ]
     },
     "execution_count": 21,
     "metadata": {},
     "output_type": "execute_result"
    }
   ],
   "source": [
    "dataset.take(1)"
   ]
  },
  {
   "cell_type": "code",
   "execution_count": 22,
   "metadata": {
    "execution": {
     "iopub.execute_input": "2024-01-15T09:40:55.913272Z",
     "iopub.status.busy": "2024-01-15T09:40:55.912783Z",
     "iopub.status.idle": "2024-01-15T09:40:55.931354Z",
     "shell.execute_reply": "2024-01-15T09:40:55.930350Z",
     "shell.execute_reply.started": "2024-01-15T09:40:55.913241Z"
    }
   },
   "outputs": [],
   "source": [
    "dataset = dataset.shuffle(10000).batch(16, drop_remainder=True) # batch size, drop any left out tensor"
   ]
  },
  {
   "cell_type": "code",
   "execution_count": 23,
   "metadata": {
    "execution": {
     "iopub.execute_input": "2024-01-15T09:40:55.935861Z",
     "iopub.status.busy": "2024-01-15T09:40:55.935362Z",
     "iopub.status.idle": "2024-01-15T09:40:55.944845Z",
     "shell.execute_reply": "2024-01-15T09:40:55.943428Z",
     "shell.execute_reply.started": "2024-01-15T09:40:55.935813Z"
    }
   },
   "outputs": [
    {
     "data": {
      "text/plain": [
       "<_TakeDataset element_spec=({'input_ids': TensorSpec(shape=(16, 256), dtype=tf.float64, name=None), 'attention_mask': TensorSpec(shape=(16, 256), dtype=tf.float64, name=None)}, TensorSpec(shape=(16, 2), dtype=tf.float64, name=None))>"
      ]
     },
     "execution_count": 23,
     "metadata": {},
     "output_type": "execute_result"
    }
   ],
   "source": [
    "dataset.take(1)"
   ]
  },
  {
   "cell_type": "code",
   "execution_count": 24,
   "metadata": {
    "execution": {
     "iopub.execute_input": "2024-01-15T09:40:55.946711Z",
     "iopub.status.busy": "2024-01-15T09:40:55.946343Z",
     "iopub.status.idle": "2024-01-15T09:40:55.952117Z",
     "shell.execute_reply": "2024-01-15T09:40:55.950905Z",
     "shell.execute_reply.started": "2024-01-15T09:40:55.946681Z"
    }
   },
   "outputs": [],
   "source": [
    "p = 0.8\n",
    "train_size = int((len(df)//16)*p) # for each 16 batch of data we will have len(df)//16 samples, take 80% of that for train."
   ]
  },
  {
   "cell_type": "code",
   "execution_count": 25,
   "metadata": {
    "execution": {
     "iopub.execute_input": "2024-01-15T09:40:55.954276Z",
     "iopub.status.busy": "2024-01-15T09:40:55.953813Z",
     "iopub.status.idle": "2024-01-15T09:40:55.966404Z",
     "shell.execute_reply": "2024-01-15T09:40:55.965187Z",
     "shell.execute_reply.started": "2024-01-15T09:40:55.954235Z"
    }
   },
   "outputs": [
    {
     "data": {
      "text/plain": [
       "731"
      ]
     },
     "execution_count": 25,
     "metadata": {},
     "output_type": "execute_result"
    }
   ],
   "source": [
    "train_size"
   ]
  },
  {
   "cell_type": "code",
   "execution_count": 26,
   "metadata": {
    "execution": {
     "iopub.execute_input": "2024-01-15T09:40:55.970239Z",
     "iopub.status.busy": "2024-01-15T09:40:55.968088Z",
     "iopub.status.idle": "2024-01-15T09:40:55.980619Z",
     "shell.execute_reply": "2024-01-15T09:40:55.979386Z",
     "shell.execute_reply.started": "2024-01-15T09:40:55.970188Z"
    }
   },
   "outputs": [],
   "source": [
    "train_dataset = dataset.take(train_size)\n",
    "val_dataset = dataset.skip(train_size)"
   ]
  },
  {
   "cell_type": "code",
   "execution_count": 27,
   "metadata": {
    "execution": {
     "iopub.execute_input": "2024-01-15T09:40:55.982829Z",
     "iopub.status.busy": "2024-01-15T09:40:55.982171Z",
     "iopub.status.idle": "2024-01-15T09:40:55.996309Z",
     "shell.execute_reply": "2024-01-15T09:40:55.994975Z",
     "shell.execute_reply.started": "2024-01-15T09:40:55.982787Z"
    }
   },
   "outputs": [
    {
     "data": {
      "text/plain": [
       "731"
      ]
     },
     "execution_count": 27,
     "metadata": {},
     "output_type": "execute_result"
    }
   ],
   "source": [
    "len(train_dataset)"
   ]
  },
  {
   "cell_type": "code",
   "execution_count": 28,
   "metadata": {
    "execution": {
     "iopub.execute_input": "2024-01-15T09:40:55.998159Z",
     "iopub.status.busy": "2024-01-15T09:40:55.997718Z",
     "iopub.status.idle": "2024-01-15T09:40:56.005631Z",
     "shell.execute_reply": "2024-01-15T09:40:56.004457Z",
     "shell.execute_reply.started": "2024-01-15T09:40:55.998125Z"
    }
   },
   "outputs": [
    {
     "data": {
      "text/plain": [
       "183"
      ]
     },
     "execution_count": 28,
     "metadata": {},
     "output_type": "execute_result"
    }
   ],
   "source": [
    "len(val_dataset)"
   ]
  },
  {
   "cell_type": "code",
   "execution_count": 29,
   "metadata": {
    "execution": {
     "iopub.execute_input": "2024-01-15T09:40:56.008155Z",
     "iopub.status.busy": "2024-01-15T09:40:56.007408Z",
     "iopub.status.idle": "2024-01-15T09:40:56.938760Z",
     "shell.execute_reply": "2024-01-15T09:40:56.937651Z",
     "shell.execute_reply.started": "2024-01-15T09:40:56.008110Z"
    }
   },
   "outputs": [],
   "source": [
    "from transformers import TFBertModel"
   ]
  },
  {
   "cell_type": "code",
   "execution_count": 30,
   "metadata": {
    "execution": {
     "iopub.execute_input": "2024-01-15T09:40:56.940675Z",
     "iopub.status.busy": "2024-01-15T09:40:56.940294Z",
     "iopub.status.idle": "2024-01-15T09:41:04.496250Z",
     "shell.execute_reply": "2024-01-15T09:41:04.495130Z",
     "shell.execute_reply.started": "2024-01-15T09:40:56.940641Z"
    }
   },
   "outputs": [
    {
     "data": {
      "application/vnd.jupyter.widget-view+json": {
       "model_id": "ab6415b3f09248dd95b42a8d4e5441ff",
       "version_major": 2,
       "version_minor": 0
      },
      "text/plain": [
       "pytorch_model.bin:   0%|          | 0.00/658M [00:00<?, ?B/s]"
      ]
     },
     "metadata": {},
     "output_type": "display_data"
    },
    {
     "name": "stderr",
     "output_type": "stream",
     "text": [
      "Some weights of the PyTorch model were not used when initializing the TF 2.0 model TFBertModel: ['cls.predictions.transform.dense.bias', 'cls.predictions.transform.LayerNorm.weight', 'cls.predictions.decoder.weight', 'cls.predictions.transform.LayerNorm.bias', 'cls.predictions.decoder.bias', 'bert.embeddings.position_ids', 'cls.predictions.transform.dense.weight', 'cls.predictions.bias']\n",
      "- This IS expected if you are initializing TFBertModel from a PyTorch model trained on another task or with another architecture (e.g. initializing a TFBertForSequenceClassification model from a BertForPreTraining model).\n",
      "- This IS NOT expected if you are initializing TFBertModel from a PyTorch model that you expect to be exactly identical (e.g. initializing a TFBertForSequenceClassification model from a BertForSequenceClassification model).\n",
      "Some weights or buffers of the TF 2.0 model TFBertModel were not initialized from the PyTorch model and are newly initialized: ['bert.pooler.dense.weight', 'bert.pooler.dense.bias']\n",
      "You should probably TRAIN this model on a down-stream task to be able to use it for predictions and inference.\n"
     ]
    }
   ],
   "source": [
    "model = TFBertModel.from_pretrained('Kowsher/bangla-bert', from_pt=True) # bert base model with pretrained weights"
   ]
  },
  {
   "cell_type": "code",
   "execution_count": 31,
   "metadata": {
    "execution": {
     "iopub.execute_input": "2024-01-15T09:41:04.499847Z",
     "iopub.status.busy": "2024-01-15T09:41:04.499465Z",
     "iopub.status.idle": "2024-01-15T09:41:11.009841Z",
     "shell.execute_reply": "2024-01-15T09:41:11.008733Z",
     "shell.execute_reply.started": "2024-01-15T09:41:04.499812Z"
    }
   },
   "outputs": [
    {
     "name": "stdout",
     "output_type": "stream",
     "text": [
      "Model: \"model\"\n",
      "__________________________________________________________________________________________________\n",
      " Layer (type)                Output Shape                 Param #   Connected to                  \n",
      "==================================================================================================\n",
      " input_ids (InputLayer)      [(None, 256)]                0         []                            \n",
      "                                                                                                  \n",
      " attention_mask (InputLayer  [(None, 256)]                0         []                            \n",
      " )                                                                                                \n",
      "                                                                                                  \n",
      " bert (TFBertMainLayer)      TFBaseModelOutputWithPooli   1643581   ['input_ids[0][0]',           \n",
      "                             ngAndCrossAttentions(last_   44         'attention_mask[0][0]']      \n",
      "                             hidden_state=(None, 256, 7                                           \n",
      "                             68),                                                                 \n",
      "                              pooler_output=(None, 768)                                           \n",
      "                             , past_key_values=None, hi                                           \n",
      "                             dden_states=None, attentio                                           \n",
      "                             ns=None, cross_attentions=                                           \n",
      "                             None)                                                                \n",
      "                                                                                                  \n",
      " intermediate_layer (Dense)  (None, 512)                  393728    ['bert[0][1]']                \n",
      "                                                                                                  \n",
      " output_layer (Dense)        (None, 2)                    1026      ['intermediate_layer[0][0]']  \n",
      "                                                                                                  \n",
      "==================================================================================================\n",
      "Total params: 164752898 (628.48 MB)\n",
      "Trainable params: 164752898 (628.48 MB)\n",
      "Non-trainable params: 0 (0.00 Byte)\n",
      "__________________________________________________________________________________________________\n"
     ]
    }
   ],
   "source": [
    "# defining 2 input layers for input_ids and attn_masks\n",
    "input_ids = tf.keras.layers.Input(shape=(256,), name='input_ids', dtype='int32')\n",
    "attn_masks = tf.keras.layers.Input(shape=(256,), name='attention_mask', dtype='int32')\n",
    "\n",
    "bert_embds = model.bert(input_ids, attention_mask=attn_masks)[1] # 0 -> activation layer (3D), 1 -> pooled output layer (2D)\n",
    "intermediate_layer = tf.keras.layers.Dense(512, activation='relu', name='intermediate_layer')(bert_embds)\n",
    "output_layer = tf.keras.layers.Dense(2, activation='sigmoid', name='output_layer')(intermediate_layer) # softmax -> calcs probs of classes\n",
    "\n",
    "model = tf.keras.Model(inputs=[input_ids, attn_masks], outputs=output_layer)\n",
    "model.summary()"
   ]
  },
  {
   "cell_type": "code",
   "execution_count": 32,
   "metadata": {
    "execution": {
     "iopub.execute_input": "2024-01-15T09:41:11.011657Z",
     "iopub.status.busy": "2024-01-15T09:41:11.011267Z",
     "iopub.status.idle": "2024-01-15T09:41:11.026129Z",
     "shell.execute_reply": "2024-01-15T09:41:11.024496Z",
     "shell.execute_reply.started": "2024-01-15T09:41:11.011624Z"
    }
   },
   "outputs": [],
   "source": [
    "# optim = tf.keras.optimizers.Adam(learning_rate=1e-5, decay=1e-6)\n",
    "\n",
    "optim = tf.keras.optimizers.legacy.Adam(learning_rate=1e-5, decay=1e-6)\n",
    "loss_func = tf.keras.losses.BinaryCrossentropy()\n",
    "acc = tf.keras.metrics.BinaryAccuracy('accuracy')"
   ]
  },
  {
   "cell_type": "code",
   "execution_count": 33,
   "metadata": {
    "execution": {
     "iopub.execute_input": "2024-01-15T09:41:11.027863Z",
     "iopub.status.busy": "2024-01-15T09:41:11.027518Z",
     "iopub.status.idle": "2024-01-15T09:41:11.052261Z",
     "shell.execute_reply": "2024-01-15T09:41:11.050972Z",
     "shell.execute_reply.started": "2024-01-15T09:41:11.027836Z"
    }
   },
   "outputs": [],
   "source": [
    "model.compile(optimizer=optim, loss=loss_func, metrics=[acc])"
   ]
  },
  {
   "cell_type": "code",
   "execution_count": 34,
   "metadata": {
    "execution": {
     "iopub.execute_input": "2024-01-15T09:42:04.404432Z",
     "iopub.status.busy": "2024-01-15T09:42:04.404014Z",
     "iopub.status.idle": "2024-01-15T19:37:11.565665Z",
     "shell.execute_reply": "2024-01-15T19:37:11.560337Z",
     "shell.execute_reply.started": "2024-01-15T09:42:04.404398Z"
    }
   },
   "outputs": [
    {
     "name": "stdout",
     "output_type": "stream",
     "text": [
      "Epoch 1/2\n",
      "731/731 [==============================] - 18045s 25s/step - loss: 0.3203 - accuracy: 0.8627 - val_loss: 0.1679 - val_accuracy: 0.9407\n",
      "Epoch 2/2\n",
      "731/731 [==============================] - 17611s 24s/step - loss: 0.1929 - accuracy: 0.9270 - val_loss: 0.1154 - val_accuracy: 0.9600\n"
     ]
    }
   ],
   "source": [
    "history = model.fit(\n",
    "    train_dataset,\n",
    "    validation_data=val_dataset,\n",
    "    epochs=2\n",
    ")"
   ]
  },
  {
   "cell_type": "code",
   "execution_count": 38,
   "metadata": {
    "execution": {
     "iopub.execute_input": "2024-01-15T19:38:56.324576Z",
     "iopub.status.busy": "2024-01-15T19:38:56.324122Z",
     "iopub.status.idle": "2024-01-15T19:39:30.317325Z",
     "shell.execute_reply": "2024-01-15T19:39:30.315947Z",
     "shell.execute_reply.started": "2024-01-15T19:38:56.324536Z"
    }
   },
   "outputs": [],
   "source": [
    "model.save('hate_speech_detection_model') "
   ]
  },
  {
   "cell_type": "code",
   "execution_count": 45,
   "metadata": {
    "execution": {
     "iopub.execute_input": "2024-01-14T12:50:13.170930Z",
     "iopub.status.busy": "2024-01-14T12:50:13.170476Z",
     "iopub.status.idle": "2024-01-14T12:50:26.205387Z",
     "shell.execute_reply": "2024-01-14T12:50:26.204331Z",
     "shell.execute_reply.started": "2024-01-14T12:50:13.170898Z"
    }
   },
   "outputs": [],
   "source": [
    "loaded_model = tf.keras.models.load_model('hate_speech_detection_model')"
   ]
  },
  {
   "cell_type": "code",
   "execution_count": 46,
   "metadata": {
    "execution": {
     "iopub.execute_input": "2024-01-14T12:50:27.951566Z",
     "iopub.status.busy": "2024-01-14T12:50:27.950576Z",
     "iopub.status.idle": "2024-01-14T12:50:27.957266Z",
     "shell.execute_reply": "2024-01-14T12:50:27.956628Z",
     "shell.execute_reply.started": "2024-01-14T12:50:27.951522Z"
    }
   },
   "outputs": [],
   "source": [
    "def prepare_data(input_text, tokenizer):\n",
    "    token = tokenizer.encode_plus(\n",
    "        input_text,\n",
    "        max_length=256, \n",
    "        truncation=True, \n",
    "        padding='max_length', \n",
    "        add_special_tokens=True,\n",
    "        return_tensors='tf'\n",
    "    )\n",
    "    return {\n",
    "        'input_ids': tf.cast(token.input_ids, tf.float64),\n",
    "        'attention_mask': tf.cast(token.attention_mask, tf.float64)\n",
    "    }"
   ]
  },
  {
   "cell_type": "code",
   "execution_count": 47,
   "metadata": {
    "execution": {
     "iopub.execute_input": "2024-01-14T12:50:29.611941Z",
     "iopub.status.busy": "2024-01-14T12:50:29.611562Z",
     "iopub.status.idle": "2024-01-14T12:50:29.618434Z",
     "shell.execute_reply": "2024-01-14T12:50:29.617098Z",
     "shell.execute_reply.started": "2024-01-14T12:50:29.611915Z"
    }
   },
   "outputs": [],
   "source": [
    "input_text = ''"
   ]
  },
  {
   "cell_type": "code",
   "execution_count": 48,
   "metadata": {
    "execution": {
     "iopub.execute_input": "2024-01-14T12:50:31.046998Z",
     "iopub.status.busy": "2024-01-14T12:50:31.046582Z",
     "iopub.status.idle": "2024-01-14T12:50:31.632790Z",
     "shell.execute_reply": "2024-01-14T12:50:31.631681Z",
     "shell.execute_reply.started": "2024-01-14T12:50:31.046966Z"
    }
   },
   "outputs": [],
   "source": [
    "tokenizer = BertTokenizer.from_pretrained('Kowsher/bangla-bert')"
   ]
  },
  {
   "cell_type": "code",
   "execution_count": 49,
   "metadata": {
    "execution": {
     "iopub.execute_input": "2024-01-14T12:50:38.014103Z",
     "iopub.status.busy": "2024-01-14T12:50:38.013052Z",
     "iopub.status.idle": "2024-01-14T12:50:38.021972Z",
     "shell.execute_reply": "2024-01-14T12:50:38.020942Z",
     "shell.execute_reply.started": "2024-01-14T12:50:38.014066Z"
    }
   },
   "outputs": [],
   "source": [
    "tokenized_input_text = prepare_data(input_text, tokenizer)"
   ]
  },
  {
   "cell_type": "code",
   "execution_count": 50,
   "metadata": {
    "execution": {
     "iopub.execute_input": "2024-01-14T12:50:39.178408Z",
     "iopub.status.busy": "2024-01-14T12:50:39.178018Z",
     "iopub.status.idle": "2024-01-14T12:50:42.686052Z",
     "shell.execute_reply": "2024-01-14T12:50:42.685134Z",
     "shell.execute_reply.started": "2024-01-14T12:50:39.178380Z"
    }
   },
   "outputs": [
    {
     "name": "stdout",
     "output_type": "stream",
     "text": [
      "1/1 [==============================] - 3s 3s/step\n"
     ]
    }
   ],
   "source": [
    "probs = loaded_model.predict(tokenized_input_text)"
   ]
  },
  {
   "cell_type": "code",
   "execution_count": 51,
   "metadata": {
    "execution": {
     "iopub.execute_input": "2024-01-14T12:50:43.989176Z",
     "iopub.status.busy": "2024-01-14T12:50:43.988720Z",
     "iopub.status.idle": "2024-01-14T12:50:43.998349Z",
     "shell.execute_reply": "2024-01-14T12:50:43.996661Z",
     "shell.execute_reply.started": "2024-01-14T12:50:43.989132Z"
    }
   },
   "outputs": [
    {
     "data": {
      "text/plain": [
       "array([[0.13327132, 0.8667287 ]], dtype=float32)"
      ]
     },
     "execution_count": 51,
     "metadata": {},
     "output_type": "execute_result"
    }
   ],
   "source": [
    "probs"
   ]
  },
  {
   "cell_type": "code",
   "execution_count": 52,
   "metadata": {
    "execution": {
     "iopub.execute_input": "2024-01-14T12:50:49.423232Z",
     "iopub.status.busy": "2024-01-14T12:50:49.422805Z",
     "iopub.status.idle": "2024-01-14T12:50:49.430969Z",
     "shell.execute_reply": "2024-01-14T12:50:49.429948Z",
     "shell.execute_reply.started": "2024-01-14T12:50:49.423200Z"
    }
   },
   "outputs": [
    {
     "data": {
      "text/plain": [
       "array([0.13327132, 0.8667287 ], dtype=float32)"
      ]
     },
     "execution_count": 52,
     "metadata": {},
     "output_type": "execute_result"
    }
   ],
   "source": [
    "probs[0]"
   ]
  },
  {
   "cell_type": "code",
   "execution_count": 53,
   "metadata": {
    "execution": {
     "iopub.execute_input": "2024-01-14T12:50:51.946484Z",
     "iopub.status.busy": "2024-01-14T12:50:51.945689Z",
     "iopub.status.idle": "2024-01-14T12:50:51.953965Z",
     "shell.execute_reply": "2024-01-14T12:50:51.952839Z",
     "shell.execute_reply.started": "2024-01-14T12:50:51.946424Z"
    }
   },
   "outputs": [
    {
     "data": {
      "text/plain": [
       "1"
      ]
     },
     "execution_count": 53,
     "metadata": {},
     "output_type": "execute_result"
    }
   ],
   "source": [
    "np.argmax(probs[0])"
   ]
  },
  {
   "cell_type": "code",
   "execution_count": 54,
   "metadata": {
    "execution": {
     "iopub.execute_input": "2024-01-14T12:50:53.670869Z",
     "iopub.status.busy": "2024-01-14T12:50:53.670436Z",
     "iopub.status.idle": "2024-01-14T12:50:53.675513Z",
     "shell.execute_reply": "2024-01-14T12:50:53.674521Z",
     "shell.execute_reply.started": "2024-01-14T12:50:53.670836Z"
    }
   },
   "outputs": [],
   "source": [
    "classes=['Not-Hate', 'Hate']"
   ]
  },
  {
   "cell_type": "code",
   "execution_count": 55,
   "metadata": {
    "execution": {
     "iopub.execute_input": "2024-01-14T12:50:57.337542Z",
     "iopub.status.busy": "2024-01-14T12:50:57.337147Z",
     "iopub.status.idle": "2024-01-14T12:50:57.341910Z",
     "shell.execute_reply": "2024-01-14T12:50:57.341229Z",
     "shell.execute_reply.started": "2024-01-14T12:50:57.337515Z"
    }
   },
   "outputs": [
    {
     "name": "stdout",
     "output_type": "stream",
     "text": [
      "Hate\n"
     ]
    }
   ],
   "source": [
    "output = np.argmax(probs[0])\n",
    "print(classes[output])"
   ]
  },
  {
   "cell_type": "markdown",
   "metadata": {},
   "source": [
    "## Load Model"
   ]
  },
  {
   "cell_type": "code",
   "execution_count": 39,
   "metadata": {
    "execution": {
     "iopub.execute_input": "2024-01-15T19:39:42.284108Z",
     "iopub.status.busy": "2024-01-15T19:39:42.282718Z",
     "iopub.status.idle": "2024-01-15T19:39:59.527557Z",
     "shell.execute_reply": "2024-01-15T19:39:59.526282Z",
     "shell.execute_reply.started": "2024-01-15T19:39:42.284053Z"
    }
   },
   "outputs": [],
   "source": [
    "model = tf.keras.models.load_model('/kaggle/working/hate_speech_detection_model')"
   ]
  },
  {
   "cell_type": "code",
   "execution_count": null,
   "metadata": {},
   "outputs": [],
   "source": [
    "tokenizer = BertTokenizer.from_pretrained('Kowsher/bangla-bert')"
   ]
  },
  {
   "cell_type": "code",
   "execution_count": 40,
   "metadata": {
    "execution": {
     "iopub.execute_input": "2024-01-15T19:40:08.058308Z",
     "iopub.status.busy": "2024-01-15T19:40:08.057812Z",
     "iopub.status.idle": "2024-01-15T19:40:08.067474Z",
     "shell.execute_reply": "2024-01-15T19:40:08.065629Z",
     "shell.execute_reply.started": "2024-01-15T19:40:08.058267Z"
    }
   },
   "outputs": [],
   "source": [
    "def prepare_data(input_text, tokenizer):\n",
    "    token = tokenizer.encode_plus(\n",
    "        input_text,\n",
    "        max_length=256, \n",
    "        truncation=True, \n",
    "        padding='max_length', \n",
    "        add_special_tokens=True,\n",
    "        return_tensors='tf'\n",
    "    )\n",
    "    return {\n",
    "        'input_ids': tf.cast(token.input_ids, tf.float64),\n",
    "        'attention_mask': tf.cast(token.attention_mask, tf.float64)\n",
    "    }\n",
    "\n",
    "def make_prediction(model, processed_data, classes=['Not-Hate', 'Hate']):\n",
    "    probs = model.predict(processed_data)[0]\n",
    "    return classes[np.argmax(probs)]"
   ]
  },
  {
   "cell_type": "code",
   "execution_count": 49,
   "metadata": {
    "execution": {
     "iopub.execute_input": "2024-01-15T19:41:56.618129Z",
     "iopub.status.busy": "2024-01-15T19:41:56.617679Z",
     "iopub.status.idle": "2024-01-15T19:42:22.039405Z",
     "shell.execute_reply": "2024-01-15T19:42:22.038351Z",
     "shell.execute_reply.started": "2024-01-15T19:41:56.618091Z"
    }
   },
   "outputs": [
    {
     "name": "stdin",
     "output_type": "stream",
     "text": [
      "Enter text here:  বেশ্যা মাগি\n"
     ]
    },
    {
     "name": "stdout",
     "output_type": "stream",
     "text": [
      "1/1 [==============================] - 1s 543ms/step\n",
      "Predicted: Hate\n"
     ]
    }
   ],
   "source": [
    "input_text = input('Enter text here: ')\n",
    "processed_data = prepare_data(input_text, tokenizer)\n",
    "result = make_prediction(model, processed_data=processed_data)\n",
    "print(f\"Predicted: {result}\")"
   ]
  },
  {
   "cell_type": "code",
   "execution_count": 69,
   "metadata": {
    "execution": {
     "iopub.execute_input": "2024-01-14T12:57:23.266893Z",
     "iopub.status.busy": "2024-01-14T12:57:23.266393Z",
     "iopub.status.idle": "2024-01-14T12:57:23.274240Z",
     "shell.execute_reply": "2024-01-14T12:57:23.273028Z",
     "shell.execute_reply.started": "2024-01-14T12:57:23.266860Z"
    }
   },
   "outputs": [
    {
     "name": "stdout",
     "output_type": "stream",
     "text": [
      "/kaggle/working\n"
     ]
    }
   ],
   "source": [
    "%cd /kaggle/working"
   ]
  },
  {
   "cell_type": "code",
   "execution_count": 73,
   "metadata": {
    "execution": {
     "iopub.execute_input": "2024-01-14T12:58:26.344727Z",
     "iopub.status.busy": "2024-01-14T12:58:26.343826Z",
     "iopub.status.idle": "2024-01-14T12:58:26.349872Z",
     "shell.execute_reply": "2024-01-14T12:58:26.348335Z",
     "shell.execute_reply.started": "2024-01-14T12:58:26.344691Z"
    }
   },
   "outputs": [],
   "source": [
    "from IPython.display import FileLinks"
   ]
  },
  {
   "cell_type": "code",
   "execution_count": 74,
   "metadata": {
    "execution": {
     "iopub.execute_input": "2024-01-14T12:59:01.684822Z",
     "iopub.status.busy": "2024-01-14T12:59:01.684480Z",
     "iopub.status.idle": "2024-01-14T12:59:01.693613Z",
     "shell.execute_reply": "2024-01-14T12:59:01.692468Z",
     "shell.execute_reply.started": "2024-01-14T12:59:01.684799Z"
    }
   },
   "outputs": [
    {
     "data": {
      "text/html": [
       "hate_speech_detection_model/<br>\n",
       "&nbsp;&nbsp;<a href='hate_speech_detection_model/keras_metadata.pb' target='_blank'>keras_metadata.pb</a><br>\n",
       "&nbsp;&nbsp;<a href='hate_speech_detection_model/fingerprint.pb' target='_blank'>fingerprint.pb</a><br>\n",
       "&nbsp;&nbsp;<a href='hate_speech_detection_model/saved_model.pb' target='_blank'>saved_model.pb</a><br>\n",
       "hate_speech_detection_model/variables/<br>\n",
       "&nbsp;&nbsp;<a href='hate_speech_detection_model/variables/variables.data-00000-of-00001' target='_blank'>variables.data-00000-of-00001</a><br>\n",
       "&nbsp;&nbsp;<a href='hate_speech_detection_model/variables/variables.index' target='_blank'>variables.index</a><br>"
      ],
      "text/plain": [
       "hate_speech_detection_model/\n",
       "  keras_metadata.pb\n",
       "  fingerprint.pb\n",
       "  saved_model.pb\n",
       "hate_speech_detection_model/variables/\n",
       "  variables.data-00000-of-00001\n",
       "  variables.index"
      ]
     },
     "execution_count": 74,
     "metadata": {},
     "output_type": "execute_result"
    }
   ],
   "source": [
    "FileLinks(r'hate_speech_detection_model')"
   ]
  },
  {
   "cell_type": "code",
   "execution_count": 75,
   "metadata": {
    "execution": {
     "iopub.execute_input": "2024-01-14T13:02:45.221624Z",
     "iopub.status.busy": "2024-01-14T13:02:45.221109Z",
     "iopub.status.idle": "2024-01-14T13:02:45.983449Z",
     "shell.execute_reply": "2024-01-14T13:02:45.982516Z",
     "shell.execute_reply.started": "2024-01-14T13:02:45.221591Z"
    }
   },
   "outputs": [
    {
     "name": "stderr",
     "output_type": "stream",
     "text": [
      "/opt/conda/lib/python3.10/site-packages/keras/src/engine/training.py:3000: UserWarning: You are saving your model as an HDF5 file via `model.save()`. This file format is considered legacy. We recommend using instead the native Keras format, e.g. `model.save('my_model.keras')`.\n",
      "  saving_api.save_model(\n"
     ]
    }
   ],
   "source": [
    "model.save('hate_speech_detection_model.h5') "
   ]
  },
  {
   "cell_type": "code",
   "execution_count": 76,
   "metadata": {
    "execution": {
     "iopub.execute_input": "2024-01-14T13:04:52.909923Z",
     "iopub.status.busy": "2024-01-14T13:04:52.908501Z",
     "iopub.status.idle": "2024-01-14T13:04:55.608700Z",
     "shell.execute_reply": "2024-01-14T13:04:55.607516Z",
     "shell.execute_reply.started": "2024-01-14T13:04:52.909879Z"
    }
   },
   "outputs": [],
   "source": [
    "model.save('hate_speech_detection_model.keras') "
   ]
  },
  {
   "cell_type": "code",
   "execution_count": 78,
   "metadata": {
    "execution": {
     "iopub.execute_input": "2024-01-14T13:11:09.556534Z",
     "iopub.status.busy": "2024-01-14T13:11:09.556074Z",
     "iopub.status.idle": "2024-01-14T13:13:53.183576Z",
     "shell.execute_reply": "2024-01-14T13:13:53.181818Z",
     "shell.execute_reply.started": "2024-01-14T13:11:09.556492Z"
    }
   },
   "outputs": [
    {
     "name": "stdout",
     "output_type": "stream",
     "text": [
      "  adding: kaggle/working/ (stored 0%)\n",
      "  adding: kaggle/working/hate_speech_detection_model.keras (deflated 8%)\n",
      "  adding: kaggle/working/hate_speech_detection_model/ (stored 0%)\n",
      "  adding: kaggle/working/hate_speech_detection_model/assets/ (stored 0%)\n",
      "  adding: kaggle/working/hate_speech_detection_model/keras_metadata.pb (deflated 96%)\n",
      "  adding: kaggle/working/hate_speech_detection_model/fingerprint.pb (stored 0%)\n",
      "  adding: kaggle/working/hate_speech_detection_model/saved_model.pb (deflated 92%)\n",
      "  adding: kaggle/working/hate_speech_detection_model/variables/ (stored 0%)\n",
      "  adding: kaggle/working/hate_speech_detection_model/variables/variables.data-00000-of-00001 (deflated 35%)\n",
      "  adding: kaggle/working/hate_speech_detection_model/variables/variables.index (deflated 80%)\n",
      "  adding: kaggle/working/hate_speech_detection_model.h5 (deflated 8%)\n",
      "  adding: kaggle/working/.virtual_documents/ (stored 0%)\n"
     ]
    }
   ],
   "source": [
    "!zip -r file.zip /kaggle/working/"
   ]
  },
  {
   "cell_type": "code",
   "execution_count": 81,
   "metadata": {
    "execution": {
     "iopub.execute_input": "2024-01-14T13:22:27.184163Z",
     "iopub.status.busy": "2024-01-14T13:22:27.183730Z",
     "iopub.status.idle": "2024-01-14T13:22:27.688885Z",
     "shell.execute_reply": "2024-01-14T13:22:27.687743Z",
     "shell.execute_reply.started": "2024-01-14T13:22:27.184132Z"
    }
   },
   "outputs": [
    {
     "name": "stdout",
     "output_type": "stream",
     "text": [
      "file.zip\t\t     hate_speech_detection_model.h5\n",
      "hate_speech_detection_model  hate_speech_detection_model.keras\n"
     ]
    }
   ],
   "source": [
    "!ls"
   ]
  },
  {
   "cell_type": "code",
   "execution_count": 82,
   "metadata": {
    "execution": {
     "iopub.execute_input": "2024-01-14T13:22:53.562626Z",
     "iopub.status.busy": "2024-01-14T13:22:53.562172Z",
     "iopub.status.idle": "2024-01-14T13:22:53.570791Z",
     "shell.execute_reply": "2024-01-14T13:22:53.568664Z",
     "shell.execute_reply.started": "2024-01-14T13:22:53.562595Z"
    }
   },
   "outputs": [
    {
     "data": {
      "text/html": [
       "<a href='file.zip' target='_blank'>file.zip</a><br>"
      ],
      "text/plain": [
       "/kaggle/working/file.zip"
      ]
     },
     "execution_count": 82,
     "metadata": {},
     "output_type": "execute_result"
    }
   ],
   "source": [
    "from IPython.display import FileLink\n",
    "FileLink(r'file.zip')"
   ]
  },
  {
   "cell_type": "code",
   "execution_count": null,
   "metadata": {},
   "outputs": [],
   "source": []
  }
 ],
 "metadata": {
  "kaggle": {
   "accelerator": "none",
   "dataSources": [
    {
     "datasetId": 4286114,
     "sourceId": 7376126,
     "sourceType": "datasetVersion"
    }
   ],
   "dockerImageVersionId": 30626,
   "isGpuEnabled": false,
   "isInternetEnabled": true,
   "language": "python",
   "sourceType": "notebook"
  },
  "kernelspec": {
   "display_name": "Python 3 (ipykernel)",
   "language": "python",
   "name": "python3"
  },
  "language_info": {
   "codemirror_mode": {
    "name": "ipython",
    "version": 3
   },
   "file_extension": ".py",
   "mimetype": "text/x-python",
   "name": "python",
   "nbconvert_exporter": "python",
   "pygments_lexer": "ipython3",
   "version": "3.9.12"
  }
 },
 "nbformat": 4,
 "nbformat_minor": 4
}
