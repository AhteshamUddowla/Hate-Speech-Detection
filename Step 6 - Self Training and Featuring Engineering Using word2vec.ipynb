{
 "cells": [
  {
   "cell_type": "code",
   "execution_count": 1,
   "id": "ca7aadbd",
   "metadata": {},
   "outputs": [],
   "source": [
    "import pandas as pd\n",
    "import numpy as np\n",
    "from sklearn.svm import SVC\n",
    "from sklearn.utils import shuffle\n",
    "from sklearn.pipeline import Pipeline\n",
    "from sklearn.metrics import accuracy_score\n",
    "from sklearn.metrics import confusion_matrix\n",
    "from sklearn.metrics import classification_report\n",
    "from sklearn.tree import DecisionTreeClassifier\n",
    "from sklearn.model_selection import cross_val_score\n",
    "from sklearn.linear_model import LogisticRegression\n",
    "from sklearn.ensemble import RandomForestClassifier\n",
    "from sklearn.semi_supervised import SelfTrainingClassifier\n",
    "from sklearn.feature_extraction.text import TfidfVectorizer\n",
    "from sklearn.model_selection import train_test_split"
   ]
  },
  {
   "cell_type": "code",
   "execution_count": 2,
   "id": "78a1be5e",
   "metadata": {},
   "outputs": [
    {
     "data": {
      "text/html": [
       "<div>\n",
       "<style scoped>\n",
       "    .dataframe tbody tr th:only-of-type {\n",
       "        vertical-align: middle;\n",
       "    }\n",
       "\n",
       "    .dataframe tbody tr th {\n",
       "        vertical-align: top;\n",
       "    }\n",
       "\n",
       "    .dataframe thead th {\n",
       "        text-align: right;\n",
       "    }\n",
       "</style>\n",
       "<table border=\"1\" class=\"dataframe\">\n",
       "  <thead>\n",
       "    <tr style=\"text-align: right;\">\n",
       "      <th></th>\n",
       "      <th>sentence</th>\n",
       "      <th>hate</th>\n",
       "      <th>category</th>\n",
       "      <th>token</th>\n",
       "      <th>vec</th>\n",
       "    </tr>\n",
       "  </thead>\n",
       "  <tbody>\n",
       "    <tr>\n",
       "      <th>0</th>\n",
       "      <td>অসীম সৌন্দর্য বোঝা স্মার্ট বোঝা মান মানুষ রাসু...</td>\n",
       "      <td>0</td>\n",
       "      <td>religion</td>\n",
       "      <td>['অসীম', 'সৌন্দর্য', 'বোঝা', 'স্মার্ট', 'বোঝা'...</td>\n",
       "      <td>[-0.01497428  0.08873386  0.02271434  0.056933...</td>\n",
       "    </tr>\n",
       "    <tr>\n",
       "      <th>1</th>\n",
       "      <td>মাগি মাগি মর যা</td>\n",
       "      <td>1</td>\n",
       "      <td>crime</td>\n",
       "      <td>['মাগি', 'মাগি', 'মর', 'যা']</td>\n",
       "      <td>[-2.24201421e-02  2.10984946e-01  3.13066845e-...</td>\n",
       "    </tr>\n",
       "    <tr>\n",
       "      <th>2</th>\n",
       "      <td>রিফাত মারা</td>\n",
       "      <td>0</td>\n",
       "      <td>crime</td>\n",
       "      <td>['রিফাত', 'মারা']</td>\n",
       "      <td>[-3.24658379e-02  2.21859217e-01  3.75445386e-...</td>\n",
       "    </tr>\n",
       "    <tr>\n",
       "      <th>3</th>\n",
       "      <td>প্রিয় ভক্ত মিজানু রহমান</td>\n",
       "      <td>0</td>\n",
       "      <td>religion</td>\n",
       "      <td>['প্রিয়', 'ভক্ত', 'মিজানু', 'রহমান']</td>\n",
       "      <td>[-0.01089375  0.10535828  0.01994424  0.063042...</td>\n",
       "    </tr>\n",
       "    <tr>\n",
       "      <th>4</th>\n",
       "      <td>তাহা জন সিন্স শালা ফালতু</td>\n",
       "      <td>1</td>\n",
       "      <td>religion</td>\n",
       "      <td>['তাহা', 'জন', 'সিন্স', 'শালা', 'ফালতু']</td>\n",
       "      <td>[-0.02635221  0.20205662  0.03821389  0.128290...</td>\n",
       "    </tr>\n",
       "  </tbody>\n",
       "</table>\n",
       "</div>"
      ],
      "text/plain": [
       "                                            sentence  hate  category  \\\n",
       "0  অসীম সৌন্দর্য বোঝা স্মার্ট বোঝা মান মানুষ রাসু...     0  religion   \n",
       "1                                    মাগি মাগি মর যা     1     crime   \n",
       "2                                         রিফাত মারা     0     crime   \n",
       "3                            প্রিয় ভক্ত মিজানু রহমান     0  religion   \n",
       "4                           তাহা জন সিন্স শালা ফালতু     1  religion   \n",
       "\n",
       "                                               token  \\\n",
       "0  ['অসীম', 'সৌন্দর্য', 'বোঝা', 'স্মার্ট', 'বোঝা'...   \n",
       "1                       ['মাগি', 'মাগি', 'মর', 'যা']   \n",
       "2                                  ['রিফাত', 'মারা']   \n",
       "3               ['প্রিয়', 'ভক্ত', 'মিজানু', 'রহমান']   \n",
       "4           ['তাহা', 'জন', 'সিন্স', 'শালা', 'ফালতু']   \n",
       "\n",
       "                                                 vec  \n",
       "0  [-0.01497428  0.08873386  0.02271434  0.056933...  \n",
       "1  [-2.24201421e-02  2.10984946e-01  3.13066845e-...  \n",
       "2  [-3.24658379e-02  2.21859217e-01  3.75445386e-...  \n",
       "3  [-0.01089375  0.10535828  0.01994424  0.063042...  \n",
       "4  [-0.02635221  0.20205662  0.03821389  0.128290...  "
      ]
     },
     "execution_count": 2,
     "metadata": {},
     "output_type": "execute_result"
    }
   ],
   "source": [
    "df = pd.read_csv('data/vectorized_data.csv')\n",
    "df.head()"
   ]
  },
  {
   "cell_type": "markdown",
   "id": "0eb6b1f9",
   "metadata": {},
   "source": [
    "## Convert the string representations back to NumPy arrays"
   ]
  },
  {
   "cell_type": "code",
   "execution_count": 3,
   "id": "e8fc33ab",
   "metadata": {},
   "outputs": [],
   "source": [
    "df['vec'] = df['vec'].apply(lambda x: np.fromstring(x[1:-1], sep=' '))"
   ]
  },
  {
   "cell_type": "code",
   "execution_count": 4,
   "id": "5fa40f90",
   "metadata": {},
   "outputs": [
    {
     "data": {
      "text/plain": [
       "(17300, 5)"
      ]
     },
     "execution_count": 4,
     "metadata": {},
     "output_type": "execute_result"
    }
   ],
   "source": [
    "df.shape"
   ]
  },
  {
   "cell_type": "markdown",
   "id": "6da522ac",
   "metadata": {},
   "source": [
    "## Seperate Labeled and Unlabeled Data in 70:30 Ratio"
   ]
  },
  {
   "cell_type": "code",
   "execution_count": 5,
   "id": "84b516b8",
   "metadata": {},
   "outputs": [],
   "source": [
    "unlabeled_df, labeled_df = train_test_split(df, test_size=0.3, random_state=42)"
   ]
  },
  {
   "cell_type": "code",
   "execution_count": 6,
   "id": "2770cb30",
   "metadata": {},
   "outputs": [
    {
     "data": {
      "text/plain": [
       "(5190, 5)"
      ]
     },
     "execution_count": 6,
     "metadata": {},
     "output_type": "execute_result"
    }
   ],
   "source": [
    "labeled_df.shape"
   ]
  },
  {
   "cell_type": "code",
   "execution_count": 7,
   "id": "1ffc6bd2",
   "metadata": {},
   "outputs": [
    {
     "data": {
      "text/plain": [
       "(12110, 5)"
      ]
     },
     "execution_count": 7,
     "metadata": {},
     "output_type": "execute_result"
    }
   ],
   "source": [
    "unlabeled_df.shape"
   ]
  },
  {
   "cell_type": "code",
   "execution_count": 8,
   "id": "61114939",
   "metadata": {},
   "outputs": [],
   "source": [
    "unlabeled_df['hate'] = -1"
   ]
  },
  {
   "cell_type": "code",
   "execution_count": 9,
   "id": "db8131aa",
   "metadata": {},
   "outputs": [
    {
     "data": {
      "text/plain": [
       "-1    12110\n",
       "Name: hate, dtype: int64"
      ]
     },
     "execution_count": 9,
     "metadata": {},
     "output_type": "execute_result"
    }
   ],
   "source": [
    "unlabeled_df['hate'].value_counts()"
   ]
  },
  {
   "cell_type": "markdown",
   "id": "c39bca5d",
   "metadata": {},
   "source": [
    "## Seperate 20% as Test Data from Labeled Data"
   ]
  },
  {
   "cell_type": "code",
   "execution_count": 10,
   "id": "8540d0bb",
   "metadata": {},
   "outputs": [],
   "source": [
    "labeled_df, test_df = train_test_split(labeled_df, test_size=0.2, random_state=42)"
   ]
  },
  {
   "cell_type": "code",
   "execution_count": 11,
   "id": "8806a3a3",
   "metadata": {},
   "outputs": [
    {
     "data": {
      "text/plain": [
       "(1038, 5)"
      ]
     },
     "execution_count": 11,
     "metadata": {},
     "output_type": "execute_result"
    }
   ],
   "source": [
    "test_df.shape"
   ]
  },
  {
   "cell_type": "code",
   "execution_count": 12,
   "id": "0077beb8",
   "metadata": {},
   "outputs": [
    {
     "data": {
      "text/plain": [
       "(4152, 5)"
      ]
     },
     "execution_count": 12,
     "metadata": {},
     "output_type": "execute_result"
    }
   ],
   "source": [
    "labeled_df.shape"
   ]
  },
  {
   "cell_type": "code",
   "execution_count": 13,
   "id": "9091a500",
   "metadata": {},
   "outputs": [
    {
     "data": {
      "text/plain": [
       "1    2089\n",
       "0    2063\n",
       "Name: hate, dtype: int64"
      ]
     },
     "execution_count": 13,
     "metadata": {},
     "output_type": "execute_result"
    }
   ],
   "source": [
    "labeled_df['hate'].value_counts()"
   ]
  },
  {
   "cell_type": "markdown",
   "id": "86cd9320",
   "metadata": {},
   "source": [
    "## Combine Labeled and Unlabeled Data"
   ]
  },
  {
   "cell_type": "code",
   "execution_count": 14,
   "id": "8be48a35",
   "metadata": {},
   "outputs": [],
   "source": [
    "df = pd.concat([labeled_df, unlabeled_df], axis=0, ignore_index=True)"
   ]
  },
  {
   "cell_type": "code",
   "execution_count": 15,
   "id": "fbdfe036",
   "metadata": {},
   "outputs": [
    {
     "data": {
      "text/plain": [
       "(16262, 5)"
      ]
     },
     "execution_count": 15,
     "metadata": {},
     "output_type": "execute_result"
    }
   ],
   "source": [
    "df.shape"
   ]
  },
  {
   "cell_type": "code",
   "execution_count": 16,
   "id": "243d382e",
   "metadata": {},
   "outputs": [],
   "source": [
    "df = shuffle(df, random_state=0)"
   ]
  },
  {
   "cell_type": "code",
   "execution_count": 17,
   "id": "b6d6b8ae",
   "metadata": {},
   "outputs": [
    {
     "data": {
      "text/plain": [
       "-1    12110\n",
       " 1     2089\n",
       " 0     2063\n",
       "Name: hate, dtype: int64"
      ]
     },
     "execution_count": 17,
     "metadata": {},
     "output_type": "execute_result"
    }
   ],
   "source": [
    "df['hate'].value_counts()"
   ]
  },
  {
   "cell_type": "markdown",
   "id": "c12121dd",
   "metadata": {},
   "source": [
    "## Self Training and Featuring Engineering using word2vec"
   ]
  },
  {
   "cell_type": "code",
   "execution_count": 40,
   "id": "540fc29f",
   "metadata": {},
   "outputs": [],
   "source": [
    "X = df['vec'].to_list()\n",
    "y = df['hate'].to_list()"
   ]
  },
  {
   "cell_type": "markdown",
   "id": "7303ad63",
   "metadata": {},
   "source": [
    "### SVM"
   ]
  },
  {
   "cell_type": "code",
   "execution_count": 19,
   "id": "8be0131a",
   "metadata": {},
   "outputs": [],
   "source": [
    "import time"
   ]
  },
  {
   "cell_type": "code",
   "execution_count": 63,
   "id": "4f2def95",
   "metadata": {},
   "outputs": [
    {
     "name": "stdout",
     "output_type": "stream",
     "text": [
      "End of iteration 1, added 6785 new labels.\n",
      "End of iteration 2, added 2560 new labels.\n",
      "End of iteration 3, added 720 new labels.\n",
      "End of iteration 4, added 205 new labels.\n",
      "End of iteration 5, added 100 new labels.\n",
      "End of iteration 6, added 46 new labels.\n",
      "End of iteration 7, added 27 new labels.\n",
      "End of iteration 8, added 14 new labels.\n",
      "End of iteration 9, added 8 new labels.\n",
      "End of iteration 10, added 4 new labels.\n",
      "End of iteration 11, added 3 new labels.\n",
      "End of iteration 12, added 2 new labels.\n",
      "End of iteration 13, added 3 new labels.\n"
     ]
    }
   ],
   "source": [
    "start_time = time.time()\n",
    "\n",
    "st_clf = SelfTrainingClassifier(\n",
    "    base_estimator = SVC(C=400, kernel='linear', probability=True),\n",
    "    threshold=.75,\n",
    "    max_iter=None,\n",
    "    verbose = True)\n",
    "\n",
    "st_clf.fit(X, y)\n",
    "\n",
    "training_time = time.time() - start_time"
   ]
  },
  {
   "cell_type": "code",
   "execution_count": 64,
   "id": "a783f680",
   "metadata": {},
   "outputs": [
    {
     "data": {
      "text/plain": [
       "2500.8008286952972"
      ]
     },
     "execution_count": 64,
     "metadata": {},
     "output_type": "execute_result"
    }
   ],
   "source": [
    "training_time"
   ]
  },
  {
   "cell_type": "code",
   "execution_count": 65,
   "id": "e5172e21",
   "metadata": {},
   "outputs": [
    {
     "data": {
      "text/plain": [
       "0.7996146435452793"
      ]
     },
     "execution_count": 65,
     "metadata": {},
     "output_type": "execute_result"
    }
   ],
   "source": [
    "y_pred = st_clf.predict(labeled_df['vec'].to_list())\n",
    "accuracy = accuracy_score(labeled_df['hate'], y_pred)\n",
    "accuracy"
   ]
  },
  {
   "cell_type": "code",
   "execution_count": 66,
   "id": "3f1ab94b",
   "metadata": {},
   "outputs": [
    {
     "data": {
      "text/plain": [
       "0.8005780346820809"
      ]
     },
     "execution_count": 66,
     "metadata": {},
     "output_type": "execute_result"
    }
   ],
   "source": [
    "y_pred = st_clf.predict(test_df['vec'].to_list())\n",
    "accuracy = accuracy_score(test_df['hate'], y_pred)\n",
    "accuracy"
   ]
  },
  {
   "cell_type": "code",
   "execution_count": 67,
   "id": "04d06947",
   "metadata": {},
   "outputs": [
    {
     "name": "stdout",
     "output_type": "stream",
     "text": [
      "              precision    recall  f1-score   support\n",
      "\n",
      "           0       0.77      0.87      0.82       529\n",
      "           1       0.84      0.73      0.78       509\n",
      "\n",
      "    accuracy                           0.80      1038\n",
      "   macro avg       0.81      0.80      0.80      1038\n",
      "weighted avg       0.81      0.80      0.80      1038\n",
      "\n"
     ]
    }
   ],
   "source": [
    "print(classification_report(test_df['hate'], y_pred, labels=[0, 1]))"
   ]
  },
  {
   "cell_type": "code",
   "execution_count": 68,
   "id": "2b56d6d7",
   "metadata": {},
   "outputs": [
    {
     "data": {
      "image/png": "[encoded data removed]",
      "text/plain": [
       "<Figure size 576x360 with 2 Axes>"
      ]
     },
     "metadata": {
      "needs_background": "light"
     },
     "output_type": "display_data"
    }
   ],
   "source": [
    "cm = confusion_matrix(test_df['hate'], y_pred)\n",
    "\n",
    "%matplotlib inline\n",
    "import matplotlib.pyplot as plt\n",
    "import seaborn as sn\n",
    "\n",
    "plt.figure(figsize=(8, 5))\n",
    "sn.heatmap(cm, annot=True, fmt='d')  \n",
    "plt.xlabel('Predicted')\n",
    "plt.ylabel('Truth')\n",
    "\n",
    "plt.show()"
   ]
  },
  {
   "cell_type": "code",
   "execution_count": 5,
   "id": "724c30e7",
   "metadata": {},
   "outputs": [
    {
     "data": {
      "image/png": "[encoded data removed]",
      "text/plain": [
       "<Figure size 504x360 with 2 Axes>"
      ]
     },
     "metadata": {
      "needs_background": "light"
     },
     "output_type": "display_data"
    }
   ],
   "source": [
    "import numpy as np\n",
    "\n",
    "cm = [[460, 69],\n",
    "      [138, 371]]\n",
    "\n",
    "# Calculate percentages\n",
    "total = np.sum(cm)\n",
    "percentages = (cm / total) \n",
    "\n",
    "%matplotlib inline\n",
    "import matplotlib.pyplot as plt\n",
    "import seaborn as sn\n",
    "\n",
    "plt.figure(figsize=(7, 5))\n",
    "# Use a colormap that doesn't include black for low values\n",
    "cmap = sn.light_palette(\"seagreen\", as_cmap=True) \n",
    "sn.heatmap(percentages, annot=True, fmt='.2f', cmap=cmap)  # Format as percentage with two decimal places\n",
    "plt.xlabel('Predicted')\n",
    "plt.ylabel('Truth')\n",
    "\n",
    "plt.show()\n"
   ]
  },
  {
   "cell_type": "code",
   "execution_count": 69,
   "id": "99118ed1",
   "metadata": {},
   "outputs": [],
   "source": [
    "df_svc = df.copy()"
   ]
  },
  {
   "cell_type": "code",
   "execution_count": 70,
   "id": "37a83354",
   "metadata": {},
   "outputs": [
    {
     "data": {
      "text/plain": [
       "16262"
      ]
     },
     "execution_count": 70,
     "metadata": {},
     "output_type": "execute_result"
    }
   ],
   "source": [
    "len(st_clf.transduction_)"
   ]
  },
  {
   "cell_type": "code",
   "execution_count": 71,
   "id": "a5195313",
   "metadata": {},
   "outputs": [],
   "source": [
    "df_svc['psudo_label'] = st_clf.transduction_"
   ]
  },
  {
   "cell_type": "code",
   "execution_count": 72,
   "id": "5e16d888",
   "metadata": {},
   "outputs": [],
   "source": [
    "df_svc.to_csv('data/psudo_labeled_svc.csv', index=False)"
   ]
  },
  {
   "cell_type": "code",
   "execution_count": null,
   "id": "37d0163f",
   "metadata": {},
   "outputs": [],
   "source": []
  },
  {
   "cell_type": "markdown",
   "id": "945aff6b",
   "metadata": {},
   "source": [
    "## Random Forest"
   ]
  },
  {
   "cell_type": "code",
   "execution_count": 28,
   "id": "b8bea0a9",
   "metadata": {
    "scrolled": false
   },
   "outputs": [
    {
     "name": "stdout",
     "output_type": "stream",
     "text": [
      "End of iteration 1, added 5497 new labels.\n",
      "End of iteration 2, added 1907 new labels.\n",
      "End of iteration 3, added 881 new labels.\n",
      "End of iteration 4, added 463 new labels.\n",
      "End of iteration 5, added 309 new labels.\n",
      "End of iteration 6, added 187 new labels.\n",
      "End of iteration 7, added 151 new labels.\n",
      "End of iteration 8, added 119 new labels.\n",
      "End of iteration 9, added 95 new labels.\n",
      "End of iteration 10, added 78 new labels.\n",
      "End of iteration 11, added 63 new labels.\n",
      "End of iteration 12, added 40 new labels.\n",
      "End of iteration 13, added 44 new labels.\n",
      "End of iteration 14, added 28 new labels.\n",
      "End of iteration 15, added 44 new labels.\n",
      "End of iteration 16, added 24 new labels.\n",
      "End of iteration 17, added 19 new labels.\n",
      "End of iteration 18, added 25 new labels.\n",
      "End of iteration 19, added 17 new labels.\n",
      "End of iteration 20, added 14 new labels.\n",
      "End of iteration 21, added 26 new labels.\n",
      "End of iteration 22, added 25 new labels.\n",
      "End of iteration 23, added 14 new labels.\n",
      "End of iteration 24, added 11 new labels.\n",
      "End of iteration 25, added 16 new labels.\n",
      "End of iteration 26, added 14 new labels.\n",
      "End of iteration 27, added 22 new labels.\n",
      "End of iteration 28, added 6 new labels.\n",
      "End of iteration 29, added 17 new labels.\n",
      "End of iteration 30, added 8 new labels.\n",
      "End of iteration 31, added 11 new labels.\n",
      "End of iteration 32, added 10 new labels.\n",
      "End of iteration 33, added 13 new labels.\n",
      "End of iteration 34, added 9 new labels.\n",
      "End of iteration 35, added 7 new labels.\n",
      "End of iteration 36, added 7 new labels.\n",
      "End of iteration 37, added 5 new labels.\n",
      "End of iteration 38, added 7 new labels.\n",
      "End of iteration 39, added 6 new labels.\n",
      "End of iteration 40, added 10 new labels.\n",
      "End of iteration 41, added 7 new labels.\n",
      "End of iteration 42, added 8 new labels.\n",
      "End of iteration 43, added 4 new labels.\n",
      "End of iteration 44, added 9 new labels.\n",
      "End of iteration 45, added 5 new labels.\n",
      "End of iteration 46, added 10 new labels.\n",
      "End of iteration 47, added 11 new labels.\n",
      "End of iteration 48, added 6 new labels.\n",
      "End of iteration 49, added 7 new labels.\n",
      "End of iteration 50, added 6 new labels.\n",
      "End of iteration 51, added 1 new labels.\n",
      "End of iteration 52, added 9 new labels.\n"
     ]
    }
   ],
   "source": [
    "start_time = time.time()\n",
    "\n",
    "st_clf = SelfTrainingClassifier(\n",
    "    base_estimator = RandomForestClassifier(n_estimators=200),\n",
    "    threshold=.75,\n",
    "    max_iter=None,\n",
    "    verbose = True)\n",
    "\n",
    "st_clf.fit(X, y)\n",
    "\n",
    "training_time = time.time() - start_time"
   ]
  },
  {
   "cell_type": "code",
   "execution_count": 29,
   "id": "89ff6a20",
   "metadata": {},
   "outputs": [
    {
     "data": {
      "text/plain": [
       "2406.109822511673"
      ]
     },
     "execution_count": 29,
     "metadata": {},
     "output_type": "execute_result"
    }
   ],
   "source": [
    "training_time"
   ]
  },
  {
   "cell_type": "code",
   "execution_count": 30,
   "id": "38794e9c",
   "metadata": {},
   "outputs": [
    {
     "data": {
      "text/plain": [
       "0.9927745664739884"
      ]
     },
     "execution_count": 30,
     "metadata": {},
     "output_type": "execute_result"
    }
   ],
   "source": [
    "y_pred = st_clf.predict(labeled_df['vec'].to_list())\n",
    "accuracy = accuracy_score(labeled_df['hate'], y_pred)\n",
    "accuracy"
   ]
  },
  {
   "cell_type": "code",
   "execution_count": 31,
   "id": "119677b9",
   "metadata": {},
   "outputs": [
    {
     "data": {
      "text/plain": [
       "0.7620423892100193"
      ]
     },
     "execution_count": 31,
     "metadata": {},
     "output_type": "execute_result"
    }
   ],
   "source": [
    "y_pred = st_clf.predict(test_df['vec'].to_list())\n",
    "accuracy = accuracy_score(test_df['hate'], y_pred)\n",
    "accuracy"
   ]
  },
  {
   "cell_type": "code",
   "execution_count": 32,
   "id": "05b066a5",
   "metadata": {},
   "outputs": [
    {
     "name": "stdout",
     "output_type": "stream",
     "text": [
      "              precision    recall  f1-score   support\n",
      "\n",
      "           0       0.74      0.82      0.78       529\n",
      "           1       0.79      0.70      0.74       509\n",
      "\n",
      "    accuracy                           0.76      1038\n",
      "   macro avg       0.76      0.76      0.76      1038\n",
      "weighted avg       0.76      0.76      0.76      1038\n",
      "\n"
     ]
    }
   ],
   "source": [
    "print(classification_report(test_df['hate'], y_pred, labels=[0, 1]))"
   ]
  },
  {
   "cell_type": "code",
   "execution_count": 33,
   "id": "765170a8",
   "metadata": {},
   "outputs": [
    {
     "data": {
      "image/png": "[encoded data removed]",
      "text/plain": [
       "<Figure size 576x360 with 2 Axes>"
      ]
     },
     "metadata": {
      "needs_background": "light"
     },
     "output_type": "display_data"
    }
   ],
   "source": [
    "cm = confusion_matrix(test_df['hate'], y_pred)\n",
    "\n",
    "%matplotlib inline\n",
    "import matplotlib.pyplot as plt\n",
    "import seaborn as sn\n",
    "\n",
    "plt.figure(figsize=(8, 5))\n",
    "sn.heatmap(cm, annot=True, fmt='d')  \n",
    "plt.xlabel('Predicted')\n",
    "plt.ylabel('Truth')\n",
    "\n",
    "plt.show()"
   ]
  },
  {
   "cell_type": "code",
   "execution_count": 34,
   "id": "29758adf",
   "metadata": {},
   "outputs": [],
   "source": [
    "df_rf = df.copy()"
   ]
  },
  {
   "cell_type": "code",
   "execution_count": 35,
   "id": "4f038e0d",
   "metadata": {},
   "outputs": [
    {
     "data": {
      "text/plain": [
       "array([ 1, -1,  0, ...,  0,  1,  1])"
      ]
     },
     "execution_count": 35,
     "metadata": {},
     "output_type": "execute_result"
    }
   ],
   "source": [
    "st_clf.transduction_"
   ]
  },
  {
   "cell_type": "code",
   "execution_count": 36,
   "id": "2b09ebc3",
   "metadata": {},
   "outputs": [
    {
     "data": {
      "text/plain": [
       "16262"
      ]
     },
     "execution_count": 36,
     "metadata": {},
     "output_type": "execute_result"
    }
   ],
   "source": [
    "len(st_clf.transduction_)"
   ]
  },
  {
   "cell_type": "code",
   "execution_count": 37,
   "id": "306044ac",
   "metadata": {},
   "outputs": [],
   "source": [
    "df_rf['psudo_label'] = st_clf.transduction_"
   ]
  },
  {
   "cell_type": "code",
   "execution_count": 38,
   "id": "84bfa1d8",
   "metadata": {},
   "outputs": [
    {
     "data": {
      "text/html": [
       "<div>\n",
       "<style scoped>\n",
       "    .dataframe tbody tr th:only-of-type {\n",
       "        vertical-align: middle;\n",
       "    }\n",
       "\n",
       "    .dataframe tbody tr th {\n",
       "        vertical-align: top;\n",
       "    }\n",
       "\n",
       "    .dataframe thead th {\n",
       "        text-align: right;\n",
       "    }\n",
       "</style>\n",
       "<table border=\"1\" class=\"dataframe\">\n",
       "  <thead>\n",
       "    <tr style=\"text-align: right;\">\n",
       "      <th></th>\n",
       "      <th>sentence</th>\n",
       "      <th>hate</th>\n",
       "      <th>category</th>\n",
       "      <th>token</th>\n",
       "      <th>vec</th>\n",
       "      <th>psudo_label</th>\n",
       "    </tr>\n",
       "  </thead>\n",
       "  <tbody>\n",
       "    <tr>\n",
       "      <th>10554</th>\n",
       "      <td>দিনের বাচ্চা কই বালই হয়ই</td>\n",
       "      <td>-1</td>\n",
       "      <td>religion</td>\n",
       "      <td>['দিনের', 'বাচ্চা', 'কই', 'বালই', 'হয়ই']</td>\n",
       "      <td>[-0.0270244231, 0.200643005, 0.0361602905, 0.1...</td>\n",
       "      <td>1</td>\n",
       "    </tr>\n",
       "    <tr>\n",
       "      <th>12325</th>\n",
       "      <td>এইমাগিআগেথেকেবাইরেখাওয়ারঅববাস এককলায়মাগিরহয়না</td>\n",
       "      <td>-1</td>\n",
       "      <td>crime</td>\n",
       "      <td>['এইমাগিআগেথেকেবাইরেখাওয়ারঅববাস', 'এককলায়মাগির...</td>\n",
       "      <td>[0.0, 0.0, 0.0, 0.0, 0.0, 0.0, 0.0, 0.0, 0.0, ...</td>\n",
       "      <td>-1</td>\n",
       "    </tr>\n",
       "    <tr>\n",
       "      <th>6710</th>\n",
       "      <td>মঝা দুইজনে করছো সাস্থি দুইজনে পেতে স্যারের দুশ...</td>\n",
       "      <td>-1</td>\n",
       "      <td>crime</td>\n",
       "      <td>['মঝা', 'দুইজনে', 'করছো', 'সাস্থি', 'দুইজনে', ...</td>\n",
       "      <td>[-0.01142999, 0.07491128, 0.01610502, 0.047364...</td>\n",
       "      <td>0</td>\n",
       "    </tr>\n",
       "    <tr>\n",
       "      <th>2092</th>\n",
       "      <td>ভিড়িও টা ভালো লাগল</td>\n",
       "      <td>0</td>\n",
       "      <td>religion</td>\n",
       "      <td>['ভিড়িও', 'টা', 'ভালো', 'লাগল']</td>\n",
       "      <td>[-0.03091348, 0.28345488, 0.05813488, 0.170068...</td>\n",
       "      <td>0</td>\n",
       "    </tr>\n",
       "    <tr>\n",
       "      <th>12102</th>\n",
       "      <td>খেলোয়াড়দের বাংলাদেশের খেলোয়াড়দের সাদিনতা নাই!এ...</td>\n",
       "      <td>-1</td>\n",
       "      <td>sports</td>\n",
       "      <td>['খেলোয়াড়দের', 'বাংলাদেশের', 'খেলোয়াড়দের', 'সা...</td>\n",
       "      <td>[-0.02181379, 0.1577958, 0.03383988, 0.0985236...</td>\n",
       "      <td>0</td>\n",
       "    </tr>\n",
       "  </tbody>\n",
       "</table>\n",
       "</div>"
      ],
      "text/plain": [
       "                                                sentence  hate  category  \\\n",
       "10554                           দিনের বাচ্চা কই বালই হয়ই    -1  religion   \n",
       "12325      এইমাগিআগেথেকেবাইরেখাওয়ারঅববাস এককলায়মাগিরহয়না    -1     crime   \n",
       "6710   মঝা দুইজনে করছো সাস্থি দুইজনে পেতে স্যারের দুশ...    -1     crime   \n",
       "2092                                  ভিড়িও টা ভালো লাগল     0  religion   \n",
       "12102  খেলোয়াড়দের বাংলাদেশের খেলোয়াড়দের সাদিনতা নাই!এ...    -1    sports   \n",
       "\n",
       "                                                   token  \\\n",
       "10554           ['দিনের', 'বাচ্চা', 'কই', 'বালই', 'হয়ই']   \n",
       "12325  ['এইমাগিআগেথেকেবাইরেখাওয়ারঅববাস', 'এককলায়মাগির...   \n",
       "6710   ['মঝা', 'দুইজনে', 'করছো', 'সাস্থি', 'দুইজনে', ...   \n",
       "2092                     ['ভিড়িও', 'টা', 'ভালো', 'লাগল']   \n",
       "12102  ['খেলোয়াড়দের', 'বাংলাদেশের', 'খেলোয়াড়দের', 'সা...   \n",
       "\n",
       "                                                     vec  psudo_label  \n",
       "10554  [-0.0270244231, 0.200643005, 0.0361602905, 0.1...            1  \n",
       "12325  [0.0, 0.0, 0.0, 0.0, 0.0, 0.0, 0.0, 0.0, 0.0, ...           -1  \n",
       "6710   [-0.01142999, 0.07491128, 0.01610502, 0.047364...            0  \n",
       "2092   [-0.03091348, 0.28345488, 0.05813488, 0.170068...            0  \n",
       "12102  [-0.02181379, 0.1577958, 0.03383988, 0.0985236...            0  "
      ]
     },
     "execution_count": 38,
     "metadata": {},
     "output_type": "execute_result"
    }
   ],
   "source": [
    "df_rf.head()"
   ]
  },
  {
   "cell_type": "code",
   "execution_count": 39,
   "id": "b0b1b9ab",
   "metadata": {},
   "outputs": [],
   "source": [
    "df_rf.to_csv('data/psudo_labeled_rf.csv', index=False)"
   ]
  },
  {
   "cell_type": "code",
   "execution_count": null,
   "id": "49805122",
   "metadata": {},
   "outputs": [],
   "source": []
  },
  {
   "cell_type": "markdown",
   "id": "50982af8",
   "metadata": {},
   "source": [
    "## Logistic Regression"
   ]
  },
  {
   "cell_type": "code",
   "execution_count": 40,
   "id": "627dadf7",
   "metadata": {},
   "outputs": [
    {
     "name": "stdout",
     "output_type": "stream",
     "text": [
      "End of iteration 1, added 5844 new labels.\n",
      "End of iteration 2, added 2003 new labels.\n",
      "End of iteration 3, added 1048 new labels.\n",
      "End of iteration 4, added 641 new labels.\n",
      "End of iteration 5, added 333 new labels.\n",
      "End of iteration 6, added 146 new labels.\n",
      "End of iteration 7, added 50 new labels.\n",
      "End of iteration 8, added 13 new labels.\n",
      "End of iteration 9, added 14 new labels.\n",
      "End of iteration 10, added 5 new labels.\n",
      "End of iteration 11, added 1 new labels.\n"
     ]
    }
   ],
   "source": [
    "start_time = time.time()\n",
    "\n",
    "st_clf = SelfTrainingClassifier(\n",
    "    base_estimator = LogisticRegression(solver='liblinear',multi_class='auto', C=400),\n",
    "    threshold=.75,\n",
    "    max_iter=None,\n",
    "    verbose = True)\n",
    "\n",
    "st_clf.fit(X, y)\n",
    "\n",
    "training_time = time.time() - start_time"
   ]
  },
  {
   "cell_type": "code",
   "execution_count": 41,
   "id": "aa2c7326",
   "metadata": {},
   "outputs": [
    {
     "data": {
      "text/plain": [
       "21.29619812965393"
      ]
     },
     "execution_count": 41,
     "metadata": {},
     "output_type": "execute_result"
    }
   ],
   "source": [
    "training_time"
   ]
  },
  {
   "cell_type": "code",
   "execution_count": 42,
   "id": "d3d3953c",
   "metadata": {},
   "outputs": [
    {
     "data": {
      "text/plain": [
       "0.7866088631984586"
      ]
     },
     "execution_count": 42,
     "metadata": {},
     "output_type": "execute_result"
    }
   ],
   "source": [
    "y_pred = st_clf.predict(labeled_df['vec'].to_list())\n",
    "accuracy = accuracy_score(labeled_df['hate'], y_pred)\n",
    "accuracy"
   ]
  },
  {
   "cell_type": "code",
   "execution_count": 43,
   "id": "b88af6af",
   "metadata": {},
   "outputs": [
    {
     "data": {
      "text/plain": [
       "0.789980732177264"
      ]
     },
     "execution_count": 43,
     "metadata": {},
     "output_type": "execute_result"
    }
   ],
   "source": [
    "y_pred = st_clf.predict(test_df['vec'].to_list())\n",
    "accuracy = accuracy_score(test_df['hate'], y_pred)\n",
    "accuracy"
   ]
  },
  {
   "cell_type": "code",
   "execution_count": 44,
   "id": "e9bc02d9",
   "metadata": {},
   "outputs": [
    {
     "name": "stdout",
     "output_type": "stream",
     "text": [
      "              precision    recall  f1-score   support\n",
      "\n",
      "           0       0.75      0.88      0.81       529\n",
      "           1       0.84      0.70      0.77       509\n",
      "\n",
      "    accuracy                           0.79      1038\n",
      "   macro avg       0.80      0.79      0.79      1038\n",
      "weighted avg       0.80      0.79      0.79      1038\n",
      "\n"
     ]
    }
   ],
   "source": [
    "print(classification_report(test_df['hate'], y_pred, labels=[0, 1]))"
   ]
  },
  {
   "cell_type": "code",
   "execution_count": 45,
   "id": "fe602dce",
   "metadata": {},
   "outputs": [
    {
     "data": {
      "image/png": "[encoded data removed]",
      "text/plain": [
       "<Figure size 576x360 with 2 Axes>"
      ]
     },
     "metadata": {
      "needs_background": "light"
     },
     "output_type": "display_data"
    }
   ],
   "source": [
    "cm = confusion_matrix(test_df['hate'], y_pred)\n",
    "\n",
    "%matplotlib inline\n",
    "import matplotlib.pyplot as plt\n",
    "import seaborn as sn\n",
    "\n",
    "plt.figure(figsize=(8, 5))\n",
    "sn.heatmap(cm, annot=True, fmt='d')  \n",
    "plt.xlabel('Predicted')\n",
    "plt.ylabel('Truth')\n",
    "\n",
    "plt.show()"
   ]
  },
  {
   "cell_type": "code",
   "execution_count": 46,
   "id": "739d0a6e",
   "metadata": {},
   "outputs": [],
   "source": [
    "df_lr = df.copy()"
   ]
  },
  {
   "cell_type": "code",
   "execution_count": 47,
   "id": "e5e96e3f",
   "metadata": {},
   "outputs": [
    {
     "data": {
      "text/plain": [
       "16262"
      ]
     },
     "execution_count": 47,
     "metadata": {},
     "output_type": "execute_result"
    }
   ],
   "source": [
    "len(st_clf.transduction_)"
   ]
  },
  {
   "cell_type": "code",
   "execution_count": 48,
   "id": "d9b03afb",
   "metadata": {},
   "outputs": [],
   "source": [
    "df_lr['psudo_label'] = st_clf.transduction_"
   ]
  },
  {
   "cell_type": "code",
   "execution_count": 49,
   "id": "85518cad",
   "metadata": {},
   "outputs": [
    {
     "data": {
      "text/html": [
       "<div>\n",
       "<style scoped>\n",
       "    .dataframe tbody tr th:only-of-type {\n",
       "        vertical-align: middle;\n",
       "    }\n",
       "\n",
       "    .dataframe tbody tr th {\n",
       "        vertical-align: top;\n",
       "    }\n",
       "\n",
       "    .dataframe thead th {\n",
       "        text-align: right;\n",
       "    }\n",
       "</style>\n",
       "<table border=\"1\" class=\"dataframe\">\n",
       "  <thead>\n",
       "    <tr style=\"text-align: right;\">\n",
       "      <th></th>\n",
       "      <th>sentence</th>\n",
       "      <th>hate</th>\n",
       "      <th>category</th>\n",
       "      <th>token</th>\n",
       "      <th>vec</th>\n",
       "      <th>psudo_label</th>\n",
       "    </tr>\n",
       "  </thead>\n",
       "  <tbody>\n",
       "    <tr>\n",
       "      <th>10554</th>\n",
       "      <td>দিনের বাচ্চা কই বালই হয়ই</td>\n",
       "      <td>-1</td>\n",
       "      <td>religion</td>\n",
       "      <td>['দিনের', 'বাচ্চা', 'কই', 'বালই', 'হয়ই']</td>\n",
       "      <td>[-0.0270244231, 0.200643005, 0.0361602905, 0.1...</td>\n",
       "      <td>1</td>\n",
       "    </tr>\n",
       "    <tr>\n",
       "      <th>12325</th>\n",
       "      <td>এইমাগিআগেথেকেবাইরেখাওয়ারঅববাস এককলায়মাগিরহয়না</td>\n",
       "      <td>-1</td>\n",
       "      <td>crime</td>\n",
       "      <td>['এইমাগিআগেথেকেবাইরেখাওয়ারঅববাস', 'এককলায়মাগির...</td>\n",
       "      <td>[0.0, 0.0, 0.0, 0.0, 0.0, 0.0, 0.0, 0.0, 0.0, ...</td>\n",
       "      <td>0</td>\n",
       "    </tr>\n",
       "    <tr>\n",
       "      <th>6710</th>\n",
       "      <td>মঝা দুইজনে করছো সাস্থি দুইজনে পেতে স্যারের দুশ...</td>\n",
       "      <td>-1</td>\n",
       "      <td>crime</td>\n",
       "      <td>['মঝা', 'দুইজনে', 'করছো', 'সাস্থি', 'দুইজনে', ...</td>\n",
       "      <td>[-0.01142999, 0.07491128, 0.01610502, 0.047364...</td>\n",
       "      <td>-1</td>\n",
       "    </tr>\n",
       "    <tr>\n",
       "      <th>2092</th>\n",
       "      <td>ভিড়িও টা ভালো লাগল</td>\n",
       "      <td>0</td>\n",
       "      <td>religion</td>\n",
       "      <td>['ভিড়িও', 'টা', 'ভালো', 'লাগল']</td>\n",
       "      <td>[-0.03091348, 0.28345488, 0.05813488, 0.170068...</td>\n",
       "      <td>0</td>\n",
       "    </tr>\n",
       "    <tr>\n",
       "      <th>12102</th>\n",
       "      <td>খেলোয়াড়দের বাংলাদেশের খেলোয়াড়দের সাদিনতা নাই!এ...</td>\n",
       "      <td>-1</td>\n",
       "      <td>sports</td>\n",
       "      <td>['খেলোয়াড়দের', 'বাংলাদেশের', 'খেলোয়াড়দের', 'সা...</td>\n",
       "      <td>[-0.02181379, 0.1577958, 0.03383988, 0.0985236...</td>\n",
       "      <td>0</td>\n",
       "    </tr>\n",
       "  </tbody>\n",
       "</table>\n",
       "</div>"
      ],
      "text/plain": [
       "                                                sentence  hate  category  \\\n",
       "10554                           দিনের বাচ্চা কই বালই হয়ই    -1  religion   \n",
       "12325      এইমাগিআগেথেকেবাইরেখাওয়ারঅববাস এককলায়মাগিরহয়না    -1     crime   \n",
       "6710   মঝা দুইজনে করছো সাস্থি দুইজনে পেতে স্যারের দুশ...    -1     crime   \n",
       "2092                                  ভিড়িও টা ভালো লাগল     0  religion   \n",
       "12102  খেলোয়াড়দের বাংলাদেশের খেলোয়াড়দের সাদিনতা নাই!এ...    -1    sports   \n",
       "\n",
       "                                                   token  \\\n",
       "10554           ['দিনের', 'বাচ্চা', 'কই', 'বালই', 'হয়ই']   \n",
       "12325  ['এইমাগিআগেথেকেবাইরেখাওয়ারঅববাস', 'এককলায়মাগির...   \n",
       "6710   ['মঝা', 'দুইজনে', 'করছো', 'সাস্থি', 'দুইজনে', ...   \n",
       "2092                     ['ভিড়িও', 'টা', 'ভালো', 'লাগল']   \n",
       "12102  ['খেলোয়াড়দের', 'বাংলাদেশের', 'খেলোয়াড়দের', 'সা...   \n",
       "\n",
       "                                                     vec  psudo_label  \n",
       "10554  [-0.0270244231, 0.200643005, 0.0361602905, 0.1...            1  \n",
       "12325  [0.0, 0.0, 0.0, 0.0, 0.0, 0.0, 0.0, 0.0, 0.0, ...            0  \n",
       "6710   [-0.01142999, 0.07491128, 0.01610502, 0.047364...           -1  \n",
       "2092   [-0.03091348, 0.28345488, 0.05813488, 0.170068...            0  \n",
       "12102  [-0.02181379, 0.1577958, 0.03383988, 0.0985236...            0  "
      ]
     },
     "execution_count": 49,
     "metadata": {},
     "output_type": "execute_result"
    }
   ],
   "source": [
    "df_lr.head()"
   ]
  },
  {
   "cell_type": "code",
   "execution_count": 50,
   "id": "e3c18698",
   "metadata": {},
   "outputs": [],
   "source": [
    "df_lr.to_csv('data/psudo_labeled_lr.csv', index=False)"
   ]
  },
  {
   "cell_type": "code",
   "execution_count": null,
   "id": "7a4a1576",
   "metadata": {},
   "outputs": [],
   "source": []
  },
  {
   "cell_type": "code",
   "execution_count": null,
   "id": "0de512bf",
   "metadata": {},
   "outputs": [],
   "source": []
  },
  {
   "cell_type": "markdown",
   "id": "2f27b5a6",
   "metadata": {},
   "source": [
    "## Decision Tree"
   ]
  },
  {
   "cell_type": "code",
   "execution_count": 52,
   "id": "aa0980bd",
   "metadata": {},
   "outputs": [
    {
     "name": "stdout",
     "output_type": "stream",
     "text": [
      "End of iteration 1, added 11841 new labels.\n",
      "End of iteration 2, added 33 new labels.\n",
      "End of iteration 3, added 5 new labels.\n"
     ]
    }
   ],
   "source": [
    "start_time = time.time()\n",
    "\n",
    "st_clf = SelfTrainingClassifier(\n",
    "    base_estimator = DecisionTreeClassifier(criterion='entropy'),\n",
    "    threshold=.75,\n",
    "    max_iter=None,\n",
    "    verbose = True)\n",
    "\n",
    "st_clf.fit(X, y)\n",
    "\n",
    "training_time = time.time() - start_time"
   ]
  },
  {
   "cell_type": "code",
   "execution_count": 53,
   "id": "5335ece2",
   "metadata": {},
   "outputs": [
    {
     "data": {
      "text/plain": [
       "40.41966390609741"
      ]
     },
     "execution_count": 53,
     "metadata": {},
     "output_type": "execute_result"
    }
   ],
   "source": [
    "training_time"
   ]
  },
  {
   "cell_type": "code",
   "execution_count": 54,
   "id": "30bf5105",
   "metadata": {},
   "outputs": [
    {
     "data": {
      "text/plain": [
       "0.9927745664739884"
      ]
     },
     "execution_count": 54,
     "metadata": {},
     "output_type": "execute_result"
    }
   ],
   "source": [
    "y_pred = st_clf.predict(labeled_df['vec'].to_list())\n",
    "accuracy = accuracy_score(labeled_df['hate'], y_pred)\n",
    "accuracy"
   ]
  },
  {
   "cell_type": "code",
   "execution_count": 55,
   "id": "5526f673",
   "metadata": {},
   "outputs": [
    {
     "data": {
      "text/plain": [
       "0.6878612716763006"
      ]
     },
     "execution_count": 55,
     "metadata": {},
     "output_type": "execute_result"
    }
   ],
   "source": [
    "y_pred = st_clf.predict(test_df['vec'].to_list())\n",
    "accuracy = accuracy_score(test_df['hate'], y_pred)\n",
    "accuracy"
   ]
  },
  {
   "cell_type": "code",
   "execution_count": 56,
   "id": "2070d80d",
   "metadata": {},
   "outputs": [
    {
     "name": "stdout",
     "output_type": "stream",
     "text": [
      "              precision    recall  f1-score   support\n",
      "\n",
      "           0       0.69      0.71      0.70       529\n",
      "           1       0.69      0.67      0.68       509\n",
      "\n",
      "    accuracy                           0.69      1038\n",
      "   macro avg       0.69      0.69      0.69      1038\n",
      "weighted avg       0.69      0.69      0.69      1038\n",
      "\n"
     ]
    }
   ],
   "source": [
    "print(classification_report(test_df['hate'], y_pred, labels=[0, 1]))"
   ]
  },
  {
   "cell_type": "code",
   "execution_count": 57,
   "id": "5476387d",
   "metadata": {},
   "outputs": [
    {
     "data": {
      "image/png": "[encoded data removed]",
      "text/plain": [
       "<Figure size 576x360 with 2 Axes>"
      ]
     },
     "metadata": {
      "needs_background": "light"
     },
     "output_type": "display_data"
    }
   ],
   "source": [
    "cm = confusion_matrix(test_df['hate'], y_pred)\n",
    "\n",
    "%matplotlib inline\n",
    "import matplotlib.pyplot as plt\n",
    "import seaborn as sn\n",
    "\n",
    "plt.figure(figsize=(8, 5))\n",
    "sn.heatmap(cm, annot=True, fmt='d')  \n",
    "plt.xlabel('Predicted')\n",
    "plt.ylabel('Truth')\n",
    "\n",
    "plt.show()"
   ]
  },
  {
   "cell_type": "code",
   "execution_count": 58,
   "id": "81cdfa91",
   "metadata": {},
   "outputs": [],
   "source": [
    "df_dt = df.copy()"
   ]
  },
  {
   "cell_type": "code",
   "execution_count": 59,
   "id": "97f6f75d",
   "metadata": {},
   "outputs": [
    {
     "data": {
      "text/plain": [
       "16262"
      ]
     },
     "execution_count": 59,
     "metadata": {},
     "output_type": "execute_result"
    }
   ],
   "source": [
    "len(st_clf.transduction_)"
   ]
  },
  {
   "cell_type": "code",
   "execution_count": 60,
   "id": "5226dca9",
   "metadata": {},
   "outputs": [],
   "source": [
    "df_dt['psudo_label'] = st_clf.transduction_"
   ]
  },
  {
   "cell_type": "code",
   "execution_count": 61,
   "id": "376dec94",
   "metadata": {},
   "outputs": [
    {
     "data": {
      "text/html": [
       "<div>\n",
       "<style scoped>\n",
       "    .dataframe tbody tr th:only-of-type {\n",
       "        vertical-align: middle;\n",
       "    }\n",
       "\n",
       "    .dataframe tbody tr th {\n",
       "        vertical-align: top;\n",
       "    }\n",
       "\n",
       "    .dataframe thead th {\n",
       "        text-align: right;\n",
       "    }\n",
       "</style>\n",
       "<table border=\"1\" class=\"dataframe\">\n",
       "  <thead>\n",
       "    <tr style=\"text-align: right;\">\n",
       "      <th></th>\n",
       "      <th>sentence</th>\n",
       "      <th>hate</th>\n",
       "      <th>category</th>\n",
       "      <th>token</th>\n",
       "      <th>vec</th>\n",
       "      <th>psudo_label</th>\n",
       "    </tr>\n",
       "  </thead>\n",
       "  <tbody>\n",
       "    <tr>\n",
       "      <th>10554</th>\n",
       "      <td>দিনের বাচ্চা কই বালই হয়ই</td>\n",
       "      <td>-1</td>\n",
       "      <td>religion</td>\n",
       "      <td>['দিনের', 'বাচ্চা', 'কই', 'বালই', 'হয়ই']</td>\n",
       "      <td>[-0.0270244231, 0.200643005, 0.0361602905, 0.1...</td>\n",
       "      <td>1</td>\n",
       "    </tr>\n",
       "    <tr>\n",
       "      <th>12325</th>\n",
       "      <td>এইমাগিআগেথেকেবাইরেখাওয়ারঅববাস এককলায়মাগিরহয়না</td>\n",
       "      <td>-1</td>\n",
       "      <td>crime</td>\n",
       "      <td>['এইমাগিআগেথেকেবাইরেখাওয়ারঅববাস', 'এককলায়মাগির...</td>\n",
       "      <td>[0.0, 0.0, 0.0, 0.0, 0.0, 0.0, 0.0, 0.0, 0.0, ...</td>\n",
       "      <td>-1</td>\n",
       "    </tr>\n",
       "    <tr>\n",
       "      <th>6710</th>\n",
       "      <td>মঝা দুইজনে করছো সাস্থি দুইজনে পেতে স্যারের দুশ...</td>\n",
       "      <td>-1</td>\n",
       "      <td>crime</td>\n",
       "      <td>['মঝা', 'দুইজনে', 'করছো', 'সাস্থি', 'দুইজনে', ...</td>\n",
       "      <td>[-0.01142999, 0.07491128, 0.01610502, 0.047364...</td>\n",
       "      <td>1</td>\n",
       "    </tr>\n",
       "    <tr>\n",
       "      <th>2092</th>\n",
       "      <td>ভিড়িও টা ভালো লাগল</td>\n",
       "      <td>0</td>\n",
       "      <td>religion</td>\n",
       "      <td>['ভিড়িও', 'টা', 'ভালো', 'লাগল']</td>\n",
       "      <td>[-0.03091348, 0.28345488, 0.05813488, 0.170068...</td>\n",
       "      <td>0</td>\n",
       "    </tr>\n",
       "    <tr>\n",
       "      <th>12102</th>\n",
       "      <td>খেলোয়াড়দের বাংলাদেশের খেলোয়াড়দের সাদিনতা নাই!এ...</td>\n",
       "      <td>-1</td>\n",
       "      <td>sports</td>\n",
       "      <td>['খেলোয়াড়দের', 'বাংলাদেশের', 'খেলোয়াড়দের', 'সা...</td>\n",
       "      <td>[-0.02181379, 0.1577958, 0.03383988, 0.0985236...</td>\n",
       "      <td>1</td>\n",
       "    </tr>\n",
       "  </tbody>\n",
       "</table>\n",
       "</div>"
      ],
      "text/plain": [
       "                                                sentence  hate  category  \\\n",
       "10554                           দিনের বাচ্চা কই বালই হয়ই    -1  religion   \n",
       "12325      এইমাগিআগেথেকেবাইরেখাওয়ারঅববাস এককলায়মাগিরহয়না    -1     crime   \n",
       "6710   মঝা দুইজনে করছো সাস্থি দুইজনে পেতে স্যারের দুশ...    -1     crime   \n",
       "2092                                  ভিড়িও টা ভালো লাগল     0  religion   \n",
       "12102  খেলোয়াড়দের বাংলাদেশের খেলোয়াড়দের সাদিনতা নাই!এ...    -1    sports   \n",
       "\n",
       "                                                   token  \\\n",
       "10554           ['দিনের', 'বাচ্চা', 'কই', 'বালই', 'হয়ই']   \n",
       "12325  ['এইমাগিআগেথেকেবাইরেখাওয়ারঅববাস', 'এককলায়মাগির...   \n",
       "6710   ['মঝা', 'দুইজনে', 'করছো', 'সাস্থি', 'দুইজনে', ...   \n",
       "2092                     ['ভিড়িও', 'টা', 'ভালো', 'লাগল']   \n",
       "12102  ['খেলোয়াড়দের', 'বাংলাদেশের', 'খেলোয়াড়দের', 'সা...   \n",
       "\n",
       "                                                     vec  psudo_label  \n",
       "10554  [-0.0270244231, 0.200643005, 0.0361602905, 0.1...            1  \n",
       "12325  [0.0, 0.0, 0.0, 0.0, 0.0, 0.0, 0.0, 0.0, 0.0, ...           -1  \n",
       "6710   [-0.01142999, 0.07491128, 0.01610502, 0.047364...            1  \n",
       "2092   [-0.03091348, 0.28345488, 0.05813488, 0.170068...            0  \n",
       "12102  [-0.02181379, 0.1577958, 0.03383988, 0.0985236...            1  "
      ]
     },
     "execution_count": 61,
     "metadata": {},
     "output_type": "execute_result"
    }
   ],
   "source": [
    "df_dt.head()"
   ]
  },
  {
   "cell_type": "code",
   "execution_count": 62,
   "id": "88ac9d1e",
   "metadata": {},
   "outputs": [],
   "source": [
    "df_dt.to_csv('data/psudo_labeled_dt.csv', index=False)"
   ]
  },
  {
   "cell_type": "code",
   "execution_count": 28,
   "id": "9802fe03",
   "metadata": {},
   "outputs": [
    {
     "data": {
      "image/png": "[encoded data removed]",
      "text/plain": [
       "<Figure size 720x432 with 1 Axes>"
      ]
     },
     "metadata": {
      "needs_background": "light"
     },
     "output_type": "display_data"
    }
   ],
   "source": [
    "import pandas as pd\n",
    "import seaborn as sns\n",
    "import matplotlib.pyplot as plt\n",
    "\n",
    "# Data for tf-idf vectorizer\n",
    "tfidf_data = {\n",
    "    'SVM': 0.65,\n",
    "    'Decision Tree': 0.62,\n",
    "    'Random Forest': 0.67,\n",
    "    'Logistic Regression': 0.65,\n",
    "    'KNN': 0.59\n",
    "}\n",
    "\n",
    "# Data for Word2Vec\n",
    "word2vec_data = {\n",
    "    'SVM': 0.80,\n",
    "    'Decision Tree': 0.69,\n",
    "    'Random Forest': 0.76,\n",
    "    'Logistic Regression': 0.79,\n",
    "    'KNN': 0.71\n",
    "}\n",
    "\n",
    "df_tfidf = pd.DataFrame(list(tfidf_data.items()), columns=['Model', 'Accuracy'])\n",
    "df_tfidf['Vectorization'] = 'TF-IDF'\n",
    "\n",
    "df_word2vec = pd.DataFrame(list(word2vec_data.items()), columns=['Model', 'Accuracy'])\n",
    "df_word2vec['Vectorization'] = 'Word2Vec'\n",
    "\n",
    "# Combine the DataFrames\n",
    "df_combined = pd.concat([df_tfidf, df_word2vec])\n",
    "\n",
    "# Create a barplot using seaborn\n",
    "plt.figure(figsize=(10, 6))\n",
    "sns.barplot(x='Model', y='Accuracy', hue='Vectorization', data=df_combined, palette='viridis')\n",
    "plt.title('Comparison of Model Accuracy with Different Vectorization Methods')\n",
    "plt.xlabel('Model + Vectorization Method')\n",
    "plt.ylabel('Accuracy')\n",
    "plt.legend(title='Vectorization Method', bbox_to_anchor=(0.34, 0.85), loc=\"lower center\", ncol=2)\n",
    "\n",
    "# Adjust layout to prevent overlapping\n",
    "plt.subplots_adjust(top=1)\n",
    "\n",
    "plt.show()\n"
   ]
  },
  {
   "cell_type": "code",
   "execution_count": 75,
   "id": "2c9c5ebb",
   "metadata": {},
   "outputs": [
    {
     "data": {
      "text/html": [
       "<div>\n",
       "<style scoped>\n",
       "    .dataframe tbody tr th:only-of-type {\n",
       "        vertical-align: middle;\n",
       "    }\n",
       "\n",
       "    .dataframe tbody tr th {\n",
       "        vertical-align: top;\n",
       "    }\n",
       "\n",
       "    .dataframe thead th {\n",
       "        text-align: right;\n",
       "    }\n",
       "</style>\n",
       "<table border=\"1\" class=\"dataframe\">\n",
       "  <thead>\n",
       "    <tr style=\"text-align: right;\">\n",
       "      <th></th>\n",
       "      <th>Model</th>\n",
       "      <th>Accuracy</th>\n",
       "      <th>Vectorization</th>\n",
       "    </tr>\n",
       "  </thead>\n",
       "  <tbody>\n",
       "    <tr>\n",
       "      <th>0</th>\n",
       "      <td>SVM</td>\n",
       "      <td>0.65</td>\n",
       "      <td>TF-IDF</td>\n",
       "    </tr>\n",
       "    <tr>\n",
       "      <th>1</th>\n",
       "      <td>Decision Tree</td>\n",
       "      <td>0.62</td>\n",
       "      <td>TF-IDF</td>\n",
       "    </tr>\n",
       "    <tr>\n",
       "      <th>2</th>\n",
       "      <td>Random Forest</td>\n",
       "      <td>0.67</td>\n",
       "      <td>TF-IDF</td>\n",
       "    </tr>\n",
       "    <tr>\n",
       "      <th>3</th>\n",
       "      <td>Logistic Regression</td>\n",
       "      <td>0.65</td>\n",
       "      <td>TF-IDF</td>\n",
       "    </tr>\n",
       "    <tr>\n",
       "      <th>0</th>\n",
       "      <td>SVM</td>\n",
       "      <td>0.80</td>\n",
       "      <td>Word2Vec</td>\n",
       "    </tr>\n",
       "    <tr>\n",
       "      <th>1</th>\n",
       "      <td>Decision Tree</td>\n",
       "      <td>0.69</td>\n",
       "      <td>Word2Vec</td>\n",
       "    </tr>\n",
       "    <tr>\n",
       "      <th>2</th>\n",
       "      <td>Random Forest</td>\n",
       "      <td>0.76</td>\n",
       "      <td>Word2Vec</td>\n",
       "    </tr>\n",
       "    <tr>\n",
       "      <th>3</th>\n",
       "      <td>Logistic Regression</td>\n",
       "      <td>0.79</td>\n",
       "      <td>Word2Vec</td>\n",
       "    </tr>\n",
       "  </tbody>\n",
       "</table>\n",
       "</div>"
      ],
      "text/plain": [
       "                 Model  Accuracy Vectorization\n",
       "0                  SVM      0.65        TF-IDF\n",
       "1        Decision Tree      0.62        TF-IDF\n",
       "2        Random Forest      0.67        TF-IDF\n",
       "3  Logistic Regression      0.65        TF-IDF\n",
       "0                  SVM      0.80      Word2Vec\n",
       "1        Decision Tree      0.69      Word2Vec\n",
       "2        Random Forest      0.76      Word2Vec\n",
       "3  Logistic Regression      0.79      Word2Vec"
      ]
     },
     "execution_count": 75,
     "metadata": {},
     "output_type": "execute_result"
    }
   ],
   "source": [
    "df_combined"
   ]
  },
  {
   "cell_type": "code",
   "execution_count": 88,
   "id": "f17b5ae4",
   "metadata": {},
   "outputs": [
    {
     "data": {
      "image/png": "[encoded data removed]",
      "text/plain": [
       "<Figure size 720x432 with 1 Axes>"
      ]
     },
     "metadata": {
      "needs_background": "light"
     },
     "output_type": "display_data"
    }
   ],
   "source": [
    "import seaborn as sns\n",
    "import matplotlib.pyplot as plt\n",
    "\n",
    "# Data for tf-idf vectorizer\n",
    "tfidf_data = {\n",
    "    'SVM': 0.65,\n",
    "    'Decision Tree': 0.62,\n",
    "    'Random Forest': 0.67,\n",
    "    'Logistic Regression': 0.65\n",
    "}\n",
    "\n",
    "# Data for Word2Vec\n",
    "word2vec_data = {\n",
    "    'SVM': 0.80,\n",
    "    'Decision Tree': 0.69,\n",
    "    'Random Forest': 0.76,\n",
    "    'Logistic Regression': 0.79\n",
    "}\n",
    "\n",
    "# Create a DataFrame for seaborn\n",
    "import pandas as pd\n",
    "\n",
    "df_tfidf = pd.DataFrame(list(tfidf_data.items()), columns=['Model', 'Accuracy'])\n",
    "df_tfidf['Vectorization'] = 'TF-IDF'\n",
    "\n",
    "df_word2vec = pd.DataFrame(list(word2vec_data.items()), columns=['Model', 'Accuracy'])\n",
    "df_word2vec['Vectorization'] = 'Word2Vec'\n",
    "\n",
    "# Combine the DataFrames\n",
    "df_combined = pd.concat([df_tfidf, df_word2vec])\n",
    "\n",
    "# Create a barplot using seaborn\n",
    "plt.figure(figsize=(10, 6))\n",
    "sns.barplot(x='Model', y='Accuracy', hue='Vectorization', data=df_combined, palette='magma')\n",
    "\n",
    "# Add annotations\n",
    "for p in plt.gca().patches:\n",
    "    plt.gca().annotate(f'{p.get_height():.2f}', (p.get_x() + p.get_width() / 2., p.get_height()),\n",
    "                       ha='center', va='center', xytext=(0, 10), textcoords='offset points')\n",
    "\n",
    "plt.title('Comparison of Model Accuracy with Different Vectorization Methods')\n",
    "plt.xlabel('Model + Vectorization Method')\n",
    "plt.ylabel('Accuracy')\n",
    "plt.legend(title='Vectorization Method')\n",
    "plt.show()\n"
   ]
  },
  {
   "cell_type": "markdown",
   "id": "f0c04a48",
   "metadata": {},
   "source": [
    "## Multinomial Naive Bayes"
   ]
  },
  {
   "cell_type": "code",
   "execution_count": 20,
   "id": "4f80ae87",
   "metadata": {},
   "outputs": [],
   "source": [
    "from sklearn.naive_bayes import MultinomialNB"
   ]
  },
  {
   "cell_type": "code",
   "execution_count": 54,
   "id": "cf6c37aa",
   "metadata": {},
   "outputs": [],
   "source": [
    "from sklearn.preprocessing import MinMaxScaler\n",
    "\n",
    "# Assuming X is your input data\n",
    "scaler = MinMaxScaler()\n",
    "X = scaler.fit_transform(X)"
   ]
  },
  {
   "cell_type": "code",
   "execution_count": 55,
   "id": "d0647f93",
   "metadata": {},
   "outputs": [
    {
     "name": "stdout",
     "output_type": "stream",
     "text": [
      "End of iteration 1, added 6533 new labels.\n",
      "End of iteration 2, added 4842 new labels.\n"
     ]
    }
   ],
   "source": [
    "start_time = time.time()\n",
    "\n",
    "st_clf = SelfTrainingClassifier(\n",
    "    base_estimator = MultinomialNB(),\n",
    "    threshold=.75,\n",
    "    max_iter=None,\n",
    "    verbose = True)\n",
    "\n",
    "st_clf.fit(X, y)\n",
    "\n",
    "training_time = time.time() - start_time"
   ]
  },
  {
   "cell_type": "code",
   "execution_count": 56,
   "id": "1f5b0d68",
   "metadata": {},
   "outputs": [
    {
     "data": {
      "text/plain": [
       "0.5443159922928709"
      ]
     },
     "execution_count": 56,
     "metadata": {},
     "output_type": "execute_result"
    }
   ],
   "source": [
    "y_pred = st_clf.predict(scaler.fit_transform(labeled_df['vec'].to_list()))\n",
    "accuracy = accuracy_score(labeled_df['hate'], y_pred)\n",
    "accuracy"
   ]
  },
  {
   "cell_type": "code",
   "execution_count": 57,
   "id": "bf649742",
   "metadata": {},
   "outputs": [
    {
     "data": {
      "text/plain": [
       "0.5404624277456648"
      ]
     },
     "execution_count": 57,
     "metadata": {},
     "output_type": "execute_result"
    }
   ],
   "source": [
    "y_pred = st_clf.predict(scaler.fit_transform(test_df['vec'].to_list()))\n",
    "accuracy = accuracy_score(test_df['hate'], y_pred)\n",
    "accuracy"
   ]
  },
  {
   "cell_type": "code",
   "execution_count": 30,
   "id": "62f581c2",
   "metadata": {},
   "outputs": [
    {
     "name": "stdout",
     "output_type": "stream",
     "text": [
      "              precision    recall  f1-score   support\n",
      "\n",
      "           0       0.56      0.44      0.49       529\n",
      "           1       0.53      0.64      0.58       509\n",
      "\n",
      "    accuracy                           0.54      1038\n",
      "   macro avg       0.54      0.54      0.54      1038\n",
      "weighted avg       0.54      0.54      0.54      1038\n",
      "\n"
     ]
    }
   ],
   "source": [
    "print(classification_report(test_df['hate'], y_pred, labels=[0, 1]))"
   ]
  },
  {
   "cell_type": "code",
   "execution_count": 31,
   "id": "8e5ee8da",
   "metadata": {},
   "outputs": [
    {
     "data": {
      "image/png": "[encoded data removed]",
      "text/plain": [
       "<Figure size 576x360 with 2 Axes>"
      ]
     },
     "metadata": {
      "needs_background": "light"
     },
     "output_type": "display_data"
    }
   ],
   "source": [
    "cm = confusion_matrix(test_df['hate'], y_pred)\n",
    "\n",
    "%matplotlib inline\n",
    "import matplotlib.pyplot as plt\n",
    "import seaborn as sn\n",
    "\n",
    "plt.figure(figsize=(8, 5))\n",
    "sn.heatmap(cm, annot=True, fmt='d')  \n",
    "plt.xlabel('Predicted')\n",
    "plt.ylabel('Truth')\n",
    "\n",
    "plt.show()"
   ]
  },
  {
   "cell_type": "markdown",
   "id": "49d9402e",
   "metadata": {},
   "source": [
    "## KNN"
   ]
  },
  {
   "cell_type": "code",
   "execution_count": 32,
   "id": "8ec851b9",
   "metadata": {},
   "outputs": [],
   "source": [
    "from sklearn.neighbors import KNeighborsClassifier"
   ]
  },
  {
   "cell_type": "code",
   "execution_count": 41,
   "id": "e4b6f18d",
   "metadata": {},
   "outputs": [
    {
     "name": "stdout",
     "output_type": "stream",
     "text": [
      "End of iteration 1, added 5887 new labels.\n",
      "End of iteration 2, added 2179 new labels.\n",
      "End of iteration 3, added 725 new labels.\n",
      "End of iteration 4, added 254 new labels.\n",
      "End of iteration 5, added 110 new labels.\n",
      "End of iteration 6, added 36 new labels.\n",
      "End of iteration 7, added 13 new labels.\n",
      "End of iteration 8, added 7 new labels.\n",
      "End of iteration 9, added 1 new labels.\n"
     ]
    }
   ],
   "source": [
    "start_time = time.time()\n",
    "\n",
    "st_clf = SelfTrainingClassifier(\n",
    "    base_estimator = KNeighborsClassifier(n_neighbors=3),\n",
    "    threshold=.75,\n",
    "    max_iter=None,\n",
    "    verbose = True)\n",
    "\n",
    "st_clf.fit(X, y)\n",
    "\n",
    "training_time = time.time() - start_time"
   ]
  },
  {
   "cell_type": "code",
   "execution_count": 44,
   "id": "617c85e3",
   "metadata": {},
   "outputs": [
    {
     "data": {
      "text/plain": [
       "0.8374277456647399"
      ]
     },
     "execution_count": 44,
     "metadata": {},
     "output_type": "execute_result"
    }
   ],
   "source": [
    "y_pred = st_clf.predict(labeled_df['vec'].to_list())\n",
    "accuracy = accuracy_score(labeled_df['hate'], y_pred)\n",
    "accuracy"
   ]
  },
  {
   "cell_type": "code",
   "execution_count": 45,
   "id": "ade51115",
   "metadata": {},
   "outputs": [
    {
     "data": {
      "text/plain": [
       "0.7119460500963392"
      ]
     },
     "execution_count": 45,
     "metadata": {},
     "output_type": "execute_result"
    }
   ],
   "source": [
    "y_pred = st_clf.predict(test_df['vec'].to_list())\n",
    "accuracy = accuracy_score(test_df['hate'], y_pred)\n",
    "accuracy"
   ]
  },
  {
   "cell_type": "code",
   "execution_count": 46,
   "id": "c6b62954",
   "metadata": {},
   "outputs": [
    {
     "name": "stdout",
     "output_type": "stream",
     "text": [
      "              precision    recall  f1-score   support\n",
      "\n",
      "           0       0.70      0.76      0.73       529\n",
      "           1       0.73      0.66      0.69       509\n",
      "\n",
      "    accuracy                           0.71      1038\n",
      "   macro avg       0.71      0.71      0.71      1038\n",
      "weighted avg       0.71      0.71      0.71      1038\n",
      "\n"
     ]
    }
   ],
   "source": [
    "print(classification_report(test_df['hate'], y_pred, labels=[0, 1]))"
   ]
  },
  {
   "cell_type": "code",
   "execution_count": 47,
   "id": "82e1aea1",
   "metadata": {},
   "outputs": [
    {
     "data": {
      "image/png": "[encoded data removed]",
      "text/plain": [
       "<Figure size 576x360 with 2 Axes>"
      ]
     },
     "metadata": {
      "needs_background": "light"
     },
     "output_type": "display_data"
    }
   ],
   "source": [
    "cm = confusion_matrix(test_df['hate'], y_pred)\n",
    "\n",
    "%matplotlib inline\n",
    "import matplotlib.pyplot as plt\n",
    "import seaborn as sn\n",
    "\n",
    "plt.figure(figsize=(8, 5))\n",
    "sn.heatmap(cm, annot=True, fmt='d')  \n",
    "plt.xlabel('Predicted')\n",
    "plt.ylabel('Truth')\n",
    "\n",
    "plt.show()"
   ]
  },
  {
   "cell_type": "code",
   "execution_count": null,
   "id": "f0776566",
   "metadata": {},
   "outputs": [],
   "source": []
  }
 ],
 "metadata": {
  "kernelspec": {
   "display_name": "Python 3 (ipykernel)",
   "language": "python",
   "name": "python3"
  },
  "language_info": {
   "codemirror_mode": {
    "name": "ipython",
    "version": 3
   },
   "file_extension": ".py",
   "mimetype": "text/x-python",
   "name": "python",
   "nbconvert_exporter": "python",
   "pygments_lexer": "ipython3",
   "version": "3.9.12"
  }
 },
 "nbformat": 4,
 "nbformat_minor": 5
}
