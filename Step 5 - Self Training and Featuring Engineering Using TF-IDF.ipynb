{
 "cells": [
  {
   "cell_type": "code",
   "execution_count": 1,
   "id": "ec717cbb",
   "metadata": {},
   "outputs": [],
   "source": [
    "import pandas as pd\n",
    "import numpy as np\n",
    "import time\n",
    "from sklearn.svm import SVC\n",
    "from sklearn.utils import shuffle\n",
    "from sklearn.pipeline import Pipeline\n",
    "from sklearn.metrics import accuracy_score\n",
    "from sklearn.metrics import confusion_matrix\n",
    "from sklearn.metrics import classification_report\n",
    "from sklearn.tree import DecisionTreeClassifier\n",
    "from sklearn.model_selection import cross_val_score\n",
    "from sklearn.linear_model import LogisticRegression\n",
    "from sklearn.ensemble import RandomForestClassifier\n",
    "from sklearn.semi_supervised import SelfTrainingClassifier\n",
    "from sklearn.feature_extraction.text import TfidfVectorizer\n",
    "from sklearn.model_selection import train_test_split"
   ]
  },
  {
   "cell_type": "code",
   "execution_count": 2,
   "id": "17562074",
   "metadata": {},
   "outputs": [
    {
     "data": {
      "text/html": [
       "<div>\n",
       "<style scoped>\n",
       "    .dataframe tbody tr th:only-of-type {\n",
       "        vertical-align: middle;\n",
       "    }\n",
       "\n",
       "    .dataframe tbody tr th {\n",
       "        vertical-align: top;\n",
       "    }\n",
       "\n",
       "    .dataframe thead th {\n",
       "        text-align: right;\n",
       "    }\n",
       "</style>\n",
       "<table border=\"1\" class=\"dataframe\">\n",
       "  <thead>\n",
       "    <tr style=\"text-align: right;\">\n",
       "      <th></th>\n",
       "      <th>sentence</th>\n",
       "      <th>hate</th>\n",
       "      <th>category</th>\n",
       "      <th>token</th>\n",
       "      <th>vec</th>\n",
       "    </tr>\n",
       "  </thead>\n",
       "  <tbody>\n",
       "    <tr>\n",
       "      <th>0</th>\n",
       "      <td>অসীম সৌন্দর্য বোঝা স্মার্ট বোঝা মান মানুষ রাসু...</td>\n",
       "      <td>0</td>\n",
       "      <td>religion</td>\n",
       "      <td>['অসীম', 'সৌন্দর্য', 'বোঝা', 'স্মার্ট', 'বোঝা'...</td>\n",
       "      <td>[-0.01497428  0.08873386  0.02271434  0.056933...</td>\n",
       "    </tr>\n",
       "    <tr>\n",
       "      <th>1</th>\n",
       "      <td>মাগি মাগি মর যা</td>\n",
       "      <td>1</td>\n",
       "      <td>crime</td>\n",
       "      <td>['মাগি', 'মাগি', 'মর', 'যা']</td>\n",
       "      <td>[-2.24201421e-02  2.10984946e-01  3.13066845e-...</td>\n",
       "    </tr>\n",
       "    <tr>\n",
       "      <th>2</th>\n",
       "      <td>রিফাত মারা</td>\n",
       "      <td>0</td>\n",
       "      <td>crime</td>\n",
       "      <td>['রিফাত', 'মারা']</td>\n",
       "      <td>[-3.24658379e-02  2.21859217e-01  3.75445386e-...</td>\n",
       "    </tr>\n",
       "    <tr>\n",
       "      <th>3</th>\n",
       "      <td>প্রিয় ভক্ত মিজানু রহমান</td>\n",
       "      <td>0</td>\n",
       "      <td>religion</td>\n",
       "      <td>['প্রিয়', 'ভক্ত', 'মিজানু', 'রহমান']</td>\n",
       "      <td>[-0.01089375  0.10535828  0.01994424  0.063042...</td>\n",
       "    </tr>\n",
       "    <tr>\n",
       "      <th>4</th>\n",
       "      <td>তাহা জন সিন্স শালা ফালতু</td>\n",
       "      <td>1</td>\n",
       "      <td>religion</td>\n",
       "      <td>['তাহা', 'জন', 'সিন্স', 'শালা', 'ফালতু']</td>\n",
       "      <td>[-0.02635221  0.20205662  0.03821389  0.128290...</td>\n",
       "    </tr>\n",
       "  </tbody>\n",
       "</table>\n",
       "</div>"
      ],
      "text/plain": [
       "                                            sentence  hate  category  \\\n",
       "0  অসীম সৌন্দর্য বোঝা স্মার্ট বোঝা মান মানুষ রাসু...     0  religion   \n",
       "1                                    মাগি মাগি মর যা     1     crime   \n",
       "2                                         রিফাত মারা     0     crime   \n",
       "3                            প্রিয় ভক্ত মিজানু রহমান     0  religion   \n",
       "4                           তাহা জন সিন্স শালা ফালতু     1  religion   \n",
       "\n",
       "                                               token  \\\n",
       "0  ['অসীম', 'সৌন্দর্য', 'বোঝা', 'স্মার্ট', 'বোঝা'...   \n",
       "1                       ['মাগি', 'মাগি', 'মর', 'যা']   \n",
       "2                                  ['রিফাত', 'মারা']   \n",
       "3               ['প্রিয়', 'ভক্ত', 'মিজানু', 'রহমান']   \n",
       "4           ['তাহা', 'জন', 'সিন্স', 'শালা', 'ফালতু']   \n",
       "\n",
       "                                                 vec  \n",
       "0  [-0.01497428  0.08873386  0.02271434  0.056933...  \n",
       "1  [-2.24201421e-02  2.10984946e-01  3.13066845e-...  \n",
       "2  [-3.24658379e-02  2.21859217e-01  3.75445386e-...  \n",
       "3  [-0.01089375  0.10535828  0.01994424  0.063042...  \n",
       "4  [-0.02635221  0.20205662  0.03821389  0.128290...  "
      ]
     },
     "execution_count": 2,
     "metadata": {},
     "output_type": "execute_result"
    }
   ],
   "source": [
    "df = pd.read_csv('data/vectorized_data.csv')\n",
    "df.head()"
   ]
  },
  {
   "cell_type": "code",
   "execution_count": 4,
   "id": "a3547b5c",
   "metadata": {},
   "outputs": [
    {
     "data": {
      "text/plain": [
       "(17300, 5)"
      ]
     },
     "execution_count": 4,
     "metadata": {},
     "output_type": "execute_result"
    }
   ],
   "source": [
    "df.shape"
   ]
  },
  {
   "cell_type": "markdown",
   "id": "32e7cd6a",
   "metadata": {},
   "source": [
    "## Seperate Labeled and Unlabeled Data in 70:30 Ratio"
   ]
  },
  {
   "cell_type": "code",
   "execution_count": 4,
   "id": "d2329aad",
   "metadata": {},
   "outputs": [],
   "source": [
    "unlabeled_df, labeled_df = train_test_split(df, test_size=0.3, random_state=42)"
   ]
  },
  {
   "cell_type": "code",
   "execution_count": 5,
   "id": "81425f74",
   "metadata": {},
   "outputs": [
    {
     "data": {
      "text/plain": [
       "(5190, 5)"
      ]
     },
     "execution_count": 5,
     "metadata": {},
     "output_type": "execute_result"
    }
   ],
   "source": [
    "labeled_df.shape"
   ]
  },
  {
   "cell_type": "code",
   "execution_count": 6,
   "id": "9c3de05b",
   "metadata": {},
   "outputs": [
    {
     "data": {
      "text/plain": [
       "(12110, 5)"
      ]
     },
     "execution_count": 6,
     "metadata": {},
     "output_type": "execute_result"
    }
   ],
   "source": [
    "unlabeled_df.shape"
   ]
  },
  {
   "cell_type": "code",
   "execution_count": 7,
   "id": "fecb7c49",
   "metadata": {},
   "outputs": [],
   "source": [
    "unlabeled_df['hate'] = -1"
   ]
  },
  {
   "cell_type": "code",
   "execution_count": 8,
   "id": "cfcbad92",
   "metadata": {},
   "outputs": [
    {
     "data": {
      "text/plain": [
       "-1    12110\n",
       "Name: hate, dtype: int64"
      ]
     },
     "execution_count": 8,
     "metadata": {},
     "output_type": "execute_result"
    }
   ],
   "source": [
    "unlabeled_df['hate'].value_counts()"
   ]
  },
  {
   "cell_type": "markdown",
   "id": "d00be1c4",
   "metadata": {},
   "source": [
    "## Seperate 20% as Test Data from Labeled Data"
   ]
  },
  {
   "cell_type": "code",
   "execution_count": 9,
   "id": "424daff2",
   "metadata": {},
   "outputs": [],
   "source": [
    "labeled_df, test_df = train_test_split(labeled_df, test_size=0.2, random_state=42)"
   ]
  },
  {
   "cell_type": "code",
   "execution_count": 10,
   "id": "83f918d2",
   "metadata": {},
   "outputs": [
    {
     "data": {
      "text/plain": [
       "(1038, 5)"
      ]
     },
     "execution_count": 10,
     "metadata": {},
     "output_type": "execute_result"
    }
   ],
   "source": [
    "test_df.shape"
   ]
  },
  {
   "cell_type": "code",
   "execution_count": 11,
   "id": "8540b885",
   "metadata": {},
   "outputs": [
    {
     "data": {
      "text/plain": [
       "0    529\n",
       "1    509\n",
       "Name: hate, dtype: int64"
      ]
     },
     "execution_count": 11,
     "metadata": {},
     "output_type": "execute_result"
    }
   ],
   "source": [
    "test_df['hate'].value_counts()"
   ]
  },
  {
   "cell_type": "code",
   "execution_count": 12,
   "id": "c9df891c",
   "metadata": {},
   "outputs": [
    {
     "data": {
      "text/plain": [
       "(4152, 5)"
      ]
     },
     "execution_count": 12,
     "metadata": {},
     "output_type": "execute_result"
    }
   ],
   "source": [
    "labeled_df.shape"
   ]
  },
  {
   "cell_type": "code",
   "execution_count": 13,
   "id": "c4a57e0c",
   "metadata": {},
   "outputs": [
    {
     "data": {
      "text/plain": [
       "1    2089\n",
       "0    2063\n",
       "Name: hate, dtype: int64"
      ]
     },
     "execution_count": 13,
     "metadata": {},
     "output_type": "execute_result"
    }
   ],
   "source": [
    "labeled_df['hate'].value_counts()"
   ]
  },
  {
   "cell_type": "markdown",
   "id": "25071058",
   "metadata": {},
   "source": [
    "## Combine Labeled and Unlabeled Data"
   ]
  },
  {
   "cell_type": "code",
   "execution_count": 14,
   "id": "5db966dd",
   "metadata": {},
   "outputs": [],
   "source": [
    "df = pd.concat([labeled_df, unlabeled_df], axis=0, ignore_index=True)"
   ]
  },
  {
   "cell_type": "code",
   "execution_count": 15,
   "id": "411ab76d",
   "metadata": {},
   "outputs": [
    {
     "data": {
      "text/plain": [
       "(16262, 5)"
      ]
     },
     "execution_count": 15,
     "metadata": {},
     "output_type": "execute_result"
    }
   ],
   "source": [
    "df.shape"
   ]
  },
  {
   "cell_type": "code",
   "execution_count": 16,
   "id": "dab7da52",
   "metadata": {},
   "outputs": [],
   "source": [
    "df = shuffle(df, random_state=0)"
   ]
  },
  {
   "cell_type": "code",
   "execution_count": 17,
   "id": "911687eb",
   "metadata": {},
   "outputs": [
    {
     "data": {
      "text/plain": [
       "-1    12110\n",
       " 1     2089\n",
       " 0     2063\n",
       "Name: hate, dtype: int64"
      ]
     },
     "execution_count": 17,
     "metadata": {},
     "output_type": "execute_result"
    }
   ],
   "source": [
    "df['hate'].value_counts()"
   ]
  },
  {
   "cell_type": "markdown",
   "id": "099377fb",
   "metadata": {},
   "source": [
    "## Self Training and Featuring Engineering using TF-IDF"
   ]
  },
  {
   "cell_type": "code",
   "execution_count": 18,
   "id": "60f4dea8",
   "metadata": {},
   "outputs": [],
   "source": [
    "X = df['sentence']\n",
    "y = df['hate']"
   ]
  },
  {
   "cell_type": "markdown",
   "id": "aaae6118",
   "metadata": {},
   "source": [
    "### SVC"
   ]
  },
  {
   "cell_type": "code",
   "execution_count": 29,
   "id": "6c69215d",
   "metadata": {},
   "outputs": [
    {
     "name": "stdout",
     "output_type": "stream",
     "text": [
      "End of iteration 1, added 1053 new labels.\n",
      "End of iteration 2, added 1402 new labels.\n",
      "End of iteration 3, added 1466 new labels.\n",
      "End of iteration 4, added 1080 new labels.\n",
      "End of iteration 5, added 851 new labels.\n",
      "End of iteration 6, added 451 new labels.\n",
      "End of iteration 7, added 414 new labels.\n",
      "End of iteration 8, added 281 new labels.\n",
      "End of iteration 9, added 246 new labels.\n",
      "End of iteration 10, added 94 new labels.\n",
      "End of iteration 11, added 113 new labels.\n",
      "End of iteration 12, added 107 new labels.\n",
      "End of iteration 13, added 85 new labels.\n",
      "End of iteration 14, added 48 new labels.\n",
      "End of iteration 15, added 24 new labels.\n",
      "End of iteration 16, added 24 new labels.\n",
      "End of iteration 17, added 55 new labels.\n",
      "End of iteration 18, added 16 new labels.\n",
      "End of iteration 19, added 40 new labels.\n",
      "End of iteration 20, added 23 new labels.\n",
      "End of iteration 21, added 12 new labels.\n",
      "End of iteration 22, added 19 new labels.\n",
      "End of iteration 23, added 37 new labels.\n",
      "End of iteration 24, added 23 new labels.\n",
      "End of iteration 25, added 12 new labels.\n",
      "End of iteration 26, added 3 new labels.\n",
      "End of iteration 27, added 6 new labels.\n",
      "End of iteration 28, added 2 new labels.\n"
     ]
    },
    {
     "data": {
      "text/plain": [
       "Pipeline(steps=[('vectorizer_tfidf', TfidfVectorizer()),\n",
       "                ('model',\n",
       "                 SelfTrainingClassifier(base_estimator=SVC(C=400,\n",
       "                                                           kernel='linear',\n",
       "                                                           probability=True),\n",
       "                                        max_iter=None, verbose=True))])"
      ]
     },
     "execution_count": 29,
     "metadata": {},
     "output_type": "execute_result"
    }
   ],
   "source": [
    "st_clf = SelfTrainingClassifier(\n",
    "    base_estimator = SVC(C=400, kernel='linear', probability=True),\n",
    "    threshold=.75,\n",
    "    max_iter=None,\n",
    "    verbose = True)\n",
    "\n",
    "pipe = Pipeline([\n",
    "    ('vectorizer_tfidf',TfidfVectorizer()),  \n",
    "    ('model', st_clf)\n",
    "])\n",
    "\n",
    "pipe.fit(X, y)"
   ]
  },
  {
   "cell_type": "code",
   "execution_count": 30,
   "id": "1c90fa08",
   "metadata": {},
   "outputs": [
    {
     "data": {
      "text/plain": [
       "0.835019267822736"
      ]
     },
     "execution_count": 30,
     "metadata": {},
     "output_type": "execute_result"
    }
   ],
   "source": [
    "y_pred = pipe.predict(labeled_df['sentence'])\n",
    "accuracy = accuracy_score(labeled_df['hate'], y_pred)\n",
    "accuracy"
   ]
  },
  {
   "cell_type": "code",
   "execution_count": 31,
   "id": "d3ccda94",
   "metadata": {},
   "outputs": [
    {
     "data": {
      "text/plain": [
       "0.6502890173410405"
      ]
     },
     "execution_count": 31,
     "metadata": {},
     "output_type": "execute_result"
    }
   ],
   "source": [
    "y_pred = pipe.predict(test_df['sentence'])\n",
    "accuracy = accuracy_score(test_df['hate'], y_pred)\n",
    "accuracy"
   ]
  },
  {
   "cell_type": "code",
   "execution_count": 34,
   "id": "60e2bff0",
   "metadata": {},
   "outputs": [
    {
     "name": "stdout",
     "output_type": "stream",
     "text": [
      "              precision    recall  f1-score   support\n",
      "\n",
      "           0       0.66      0.64      0.65       529\n",
      "           1       0.64      0.67      0.65       509\n",
      "\n",
      "    accuracy                           0.65      1038\n",
      "   macro avg       0.65      0.65      0.65      1038\n",
      "weighted avg       0.65      0.65      0.65      1038\n",
      "\n"
     ]
    }
   ],
   "source": [
    "print(classification_report(test_df['hate'], y_pred, labels=[0, 1]))"
   ]
  },
  {
   "cell_type": "code",
   "execution_count": 35,
   "id": "1a035863",
   "metadata": {},
   "outputs": [
    {
     "data": {
      "image/png": "[encoded data removed]",
      "text/plain": [
       "<Figure size 576x360 with 2 Axes>"
      ]
     },
     "metadata": {
      "needs_background": "light"
     },
     "output_type": "display_data"
    }
   ],
   "source": [
    "cm = confusion_matrix(test_df['hate'], y_pred)\n",
    "\n",
    "%matplotlib inline\n",
    "import matplotlib.pyplot as plt\n",
    "import seaborn as sn\n",
    "\n",
    "plt.figure(figsize=(8, 5))\n",
    "sn.heatmap(cm, annot=True, fmt='d')  \n",
    "plt.xlabel('Predicted')\n",
    "plt.ylabel('Truth')\n",
    "\n",
    "plt.show()"
   ]
  },
  {
   "cell_type": "code",
   "execution_count": null,
   "id": "5235a454",
   "metadata": {},
   "outputs": [],
   "source": []
  },
  {
   "cell_type": "code",
   "execution_count": 19,
   "id": "06a362d6",
   "metadata": {},
   "outputs": [],
   "source": [
    "import time"
   ]
  },
  {
   "cell_type": "markdown",
   "id": "fea09917",
   "metadata": {},
   "source": [
    "## Random Forest"
   ]
  },
  {
   "cell_type": "code",
   "execution_count": 21,
   "id": "3d9eabd3",
   "metadata": {},
   "outputs": [
    {
     "name": "stdout",
     "output_type": "stream",
     "text": [
      "End of iteration 1, added 4189 new labels.\n",
      "End of iteration 2, added 1673 new labels.\n",
      "End of iteration 3, added 691 new labels.\n",
      "End of iteration 4, added 407 new labels.\n",
      "End of iteration 5, added 230 new labels.\n",
      "End of iteration 6, added 169 new labels.\n",
      "End of iteration 7, added 100 new labels.\n",
      "End of iteration 8, added 119 new labels.\n",
      "End of iteration 9, added 83 new labels.\n",
      "End of iteration 10, added 62 new labels.\n",
      "End of iteration 11, added 69 new labels.\n",
      "End of iteration 12, added 52 new labels.\n",
      "End of iteration 13, added 38 new labels.\n",
      "End of iteration 14, added 25 new labels.\n",
      "End of iteration 15, added 39 new labels.\n",
      "End of iteration 16, added 26 new labels.\n",
      "End of iteration 17, added 45 new labels.\n",
      "End of iteration 18, added 30 new labels.\n",
      "End of iteration 19, added 26 new labels.\n",
      "End of iteration 20, added 17 new labels.\n",
      "End of iteration 21, added 21 new labels.\n",
      "End of iteration 22, added 14 new labels.\n",
      "End of iteration 23, added 18 new labels.\n",
      "End of iteration 24, added 21 new labels.\n",
      "End of iteration 25, added 13 new labels.\n",
      "End of iteration 26, added 13 new labels.\n",
      "End of iteration 27, added 14 new labels.\n",
      "End of iteration 28, added 9 new labels.\n",
      "End of iteration 29, added 7 new labels.\n",
      "End of iteration 30, added 6 new labels.\n",
      "End of iteration 31, added 7 new labels.\n",
      "End of iteration 32, added 8 new labels.\n",
      "End of iteration 33, added 7 new labels.\n",
      "End of iteration 34, added 5 new labels.\n",
      "End of iteration 35, added 6 new labels.\n",
      "End of iteration 36, added 3 new labels.\n",
      "End of iteration 37, added 4 new labels.\n",
      "End of iteration 38, added 10 new labels.\n",
      "End of iteration 39, added 10 new labels.\n",
      "End of iteration 40, added 4 new labels.\n",
      "End of iteration 41, added 8 new labels.\n",
      "End of iteration 42, added 10 new labels.\n",
      "End of iteration 43, added 9 new labels.\n",
      "End of iteration 44, added 3 new labels.\n",
      "End of iteration 45, added 6 new labels.\n",
      "End of iteration 46, added 3 new labels.\n",
      "End of iteration 47, added 3 new labels.\n",
      "End of iteration 48, added 3 new labels.\n",
      "End of iteration 49, added 4 new labels.\n",
      "End of iteration 50, added 7 new labels.\n",
      "End of iteration 51, added 13 new labels.\n",
      "End of iteration 52, added 6 new labels.\n",
      "End of iteration 53, added 4 new labels.\n",
      "End of iteration 54, added 8 new labels.\n",
      "End of iteration 55, added 6 new labels.\n",
      "End of iteration 56, added 3 new labels.\n",
      "End of iteration 57, added 4 new labels.\n",
      "End of iteration 58, added 6 new labels.\n",
      "End of iteration 59, added 3 new labels.\n",
      "End of iteration 60, added 3 new labels.\n",
      "End of iteration 61, added 6 new labels.\n",
      "End of iteration 62, added 4 new labels.\n",
      "End of iteration 63, added 6 new labels.\n",
      "End of iteration 64, added 4 new labels.\n"
     ]
    }
   ],
   "source": [
    "start_time = time.time()\n",
    "\n",
    "st_clf = SelfTrainingClassifier(\n",
    "    base_estimator = RandomForestClassifier(n_estimators=200),\n",
    "    threshold=.75,\n",
    "    max_iter=None,\n",
    "    verbose = True)\n",
    "\n",
    "pipe = Pipeline([\n",
    "    ('vectorizer_tfidf',TfidfVectorizer()),  \n",
    "    ('model', st_clf)\n",
    "])\n",
    "\n",
    "pipe.fit(X, y)\n",
    "\n",
    "end_time = time.time()\n",
    "\n",
    "training_time = end_time - start_time"
   ]
  },
  {
   "cell_type": "code",
   "execution_count": 26,
   "id": "104ba152",
   "metadata": {},
   "outputs": [
    {
     "data": {
      "text/plain": [
       "1874.4960839748383"
      ]
     },
     "execution_count": 26,
     "metadata": {},
     "output_type": "execute_result"
    }
   ],
   "source": [
    "training_time"
   ]
  },
  {
   "cell_type": "code",
   "execution_count": 22,
   "id": "73a41a94",
   "metadata": {},
   "outputs": [
    {
     "data": {
      "text/plain": [
       "0.9284682080924855"
      ]
     },
     "execution_count": 22,
     "metadata": {},
     "output_type": "execute_result"
    }
   ],
   "source": [
    "y_pred = pipe.predict(labeled_df['sentence'])\n",
    "accuracy = accuracy_score(labeled_df['hate'], y_pred)\n",
    "accuracy"
   ]
  },
  {
   "cell_type": "code",
   "execution_count": 23,
   "id": "350601d2",
   "metadata": {},
   "outputs": [
    {
     "data": {
      "text/plain": [
       "0.6695568400770713"
      ]
     },
     "execution_count": 23,
     "metadata": {},
     "output_type": "execute_result"
    }
   ],
   "source": [
    "y_pred = pipe.predict(test_df['sentence'])\n",
    "accuracy = accuracy_score(test_df['hate'], y_pred)\n",
    "accuracy"
   ]
  },
  {
   "cell_type": "code",
   "execution_count": 24,
   "id": "dbc5ebf6",
   "metadata": {},
   "outputs": [
    {
     "name": "stdout",
     "output_type": "stream",
     "text": [
      "              precision    recall  f1-score   support\n",
      "\n",
      "           0       0.68      0.67      0.67       529\n",
      "           1       0.66      0.67      0.67       509\n",
      "\n",
      "    accuracy                           0.67      1038\n",
      "   macro avg       0.67      0.67      0.67      1038\n",
      "weighted avg       0.67      0.67      0.67      1038\n",
      "\n"
     ]
    }
   ],
   "source": [
    "print(classification_report(test_df['hate'], y_pred, labels=[0, 1]))"
   ]
  },
  {
   "cell_type": "code",
   "execution_count": 25,
   "id": "ca0a8cea",
   "metadata": {},
   "outputs": [
    {
     "data": {
      "image/png": "[encoded data removed]",
      "text/plain": [
       "<Figure size 576x360 with 2 Axes>"
      ]
     },
     "metadata": {
      "needs_background": "light"
     },
     "output_type": "display_data"
    }
   ],
   "source": [
    "cm = confusion_matrix(test_df['hate'], y_pred)\n",
    "\n",
    "%matplotlib inline\n",
    "import matplotlib.pyplot as plt\n",
    "import seaborn as sn\n",
    "\n",
    "plt.figure(figsize=(8, 5))\n",
    "sn.heatmap(cm, annot=True, fmt='d')  \n",
    "plt.xlabel('Predicted')\n",
    "plt.ylabel('Truth')\n",
    "\n",
    "plt.show()"
   ]
  },
  {
   "cell_type": "code",
   "execution_count": null,
   "id": "75913505",
   "metadata": {},
   "outputs": [],
   "source": []
  },
  {
   "cell_type": "markdown",
   "id": "f5c3b646",
   "metadata": {},
   "source": [
    "## Logistic Regression"
   ]
  },
  {
   "cell_type": "code",
   "execution_count": 27,
   "id": "e1dbf021",
   "metadata": {},
   "outputs": [
    {
     "name": "stdout",
     "output_type": "stream",
     "text": [
      "End of iteration 1, added 7040 new labels.\n",
      "End of iteration 2, added 1383 new labels.\n",
      "End of iteration 3, added 486 new labels.\n",
      "End of iteration 4, added 180 new labels.\n",
      "End of iteration 5, added 98 new labels.\n",
      "End of iteration 6, added 38 new labels.\n",
      "End of iteration 7, added 11 new labels.\n",
      "End of iteration 8, added 2 new labels.\n"
     ]
    }
   ],
   "source": [
    "start_time = time.time()\n",
    "\n",
    "st_clf = SelfTrainingClassifier(\n",
    "    base_estimator = LogisticRegression(solver='liblinear',multi_class='auto', C=400),\n",
    "    threshold=.75,\n",
    "    max_iter=None,\n",
    "    verbose = True)\n",
    "\n",
    "pipe = Pipeline([\n",
    "    ('vectorizer_tfidf',TfidfVectorizer()),  \n",
    "    ('model', st_clf)\n",
    "])\n",
    "\n",
    "pipe.fit(X, y)\n",
    "\n",
    "training_time = time.time() - start_time\n"
   ]
  },
  {
   "cell_type": "code",
   "execution_count": 28,
   "id": "6bc2646a",
   "metadata": {},
   "outputs": [
    {
     "data": {
      "text/plain": [
       "Pipeline(steps=[('vectorizer_tfidf', TfidfVectorizer()),\n",
       "                ('model',\n",
       "                 SelfTrainingClassifier(base_estimator=LogisticRegression(C=400,\n",
       "                                                                          solver='liblinear'),\n",
       "                                        max_iter=None, verbose=True))])"
      ]
     },
     "execution_count": 28,
     "metadata": {},
     "output_type": "execute_result"
    }
   ],
   "source": [
    "pipe"
   ]
  },
  {
   "cell_type": "code",
   "execution_count": 29,
   "id": "6dc5cd98",
   "metadata": {},
   "outputs": [
    {
     "data": {
      "text/plain": [
       "2.079850912094116"
      ]
     },
     "execution_count": 29,
     "metadata": {},
     "output_type": "execute_result"
    }
   ],
   "source": [
    "training_time"
   ]
  },
  {
   "cell_type": "code",
   "execution_count": 30,
   "id": "ca0cef62",
   "metadata": {},
   "outputs": [
    {
     "data": {
      "text/plain": [
       "0.8249036608863198"
      ]
     },
     "execution_count": 30,
     "metadata": {},
     "output_type": "execute_result"
    }
   ],
   "source": [
    "y_pred = pipe.predict(labeled_df['sentence'])\n",
    "accuracy = accuracy_score(labeled_df['hate'], y_pred)\n",
    "accuracy"
   ]
  },
  {
   "cell_type": "code",
   "execution_count": 31,
   "id": "f0b01c77",
   "metadata": {},
   "outputs": [
    {
     "data": {
      "text/plain": [
       "0.653179190751445"
      ]
     },
     "execution_count": 31,
     "metadata": {},
     "output_type": "execute_result"
    }
   ],
   "source": [
    "y_pred = pipe.predict(test_df['sentence'])\n",
    "accuracy = accuracy_score(test_df['hate'], y_pred)\n",
    "accuracy"
   ]
  },
  {
   "cell_type": "code",
   "execution_count": 32,
   "id": "647e9197",
   "metadata": {},
   "outputs": [
    {
     "name": "stdout",
     "output_type": "stream",
     "text": [
      "              precision    recall  f1-score   support\n",
      "\n",
      "           0       0.67      0.62      0.64       529\n",
      "           1       0.63      0.69      0.66       509\n",
      "\n",
      "    accuracy                           0.65      1038\n",
      "   macro avg       0.65      0.65      0.65      1038\n",
      "weighted avg       0.65      0.65      0.65      1038\n",
      "\n"
     ]
    }
   ],
   "source": [
    "print(classification_report(test_df['hate'], y_pred, labels=[0, 1]))"
   ]
  },
  {
   "cell_type": "code",
   "execution_count": 33,
   "id": "2f40e117",
   "metadata": {},
   "outputs": [
    {
     "data": {
      "image/png": "[encoded data removed]",
      "text/plain": [
       "<Figure size 576x360 with 2 Axes>"
      ]
     },
     "metadata": {
      "needs_background": "light"
     },
     "output_type": "display_data"
    }
   ],
   "source": [
    "cm = confusion_matrix(test_df['hate'], y_pred)\n",
    "\n",
    "%matplotlib inline\n",
    "import matplotlib.pyplot as plt\n",
    "import seaborn as sn\n",
    "\n",
    "plt.figure(figsize=(8, 5))\n",
    "sn.heatmap(cm, annot=True, fmt='d')  \n",
    "plt.xlabel('Predicted')\n",
    "plt.ylabel('Truth')\n",
    "\n",
    "plt.show()"
   ]
  },
  {
   "cell_type": "code",
   "execution_count": null,
   "id": "4a4df2f4",
   "metadata": {},
   "outputs": [],
   "source": []
  },
  {
   "cell_type": "markdown",
   "id": "f640dc5a",
   "metadata": {},
   "source": [
    "## Decision Tree"
   ]
  },
  {
   "cell_type": "code",
   "execution_count": 34,
   "id": "d8d47b5c",
   "metadata": {},
   "outputs": [
    {
     "name": "stdout",
     "output_type": "stream",
     "text": [
      "End of iteration 1, added 9610 new labels.\n",
      "End of iteration 2, added 183 new labels.\n",
      "End of iteration 3, added 60 new labels.\n",
      "End of iteration 4, added 16 new labels.\n",
      "End of iteration 5, added 14 new labels.\n",
      "End of iteration 6, added 26 new labels.\n",
      "End of iteration 7, added 9 new labels.\n",
      "End of iteration 8, added 7 new labels.\n",
      "End of iteration 9, added 1 new labels.\n",
      "End of iteration 10, added 1 new labels.\n",
      "End of iteration 11, added 2 new labels.\n",
      "End of iteration 12, added 1 new labels.\n",
      "End of iteration 13, added 4 new labels.\n",
      "End of iteration 14, added 1 new labels.\n",
      "End of iteration 15, added 2 new labels.\n",
      "End of iteration 16, added 7 new labels.\n",
      "End of iteration 17, added 6 new labels.\n",
      "End of iteration 18, added 2 new labels.\n",
      "End of iteration 19, added 2 new labels.\n",
      "End of iteration 20, added 7 new labels.\n",
      "End of iteration 21, added 1 new labels.\n",
      "End of iteration 22, added 6 new labels.\n"
     ]
    }
   ],
   "source": [
    "start_time = time.time()\n",
    "\n",
    "st_clf = SelfTrainingClassifier(\n",
    "    base_estimator = DecisionTreeClassifier(criterion='entropy'),\n",
    "    threshold=.75,\n",
    "    max_iter=None,\n",
    "    verbose = True)\n",
    "\n",
    "pipe = Pipeline([\n",
    "    ('vectorizer_tfidf',TfidfVectorizer()),  \n",
    "    ('model', st_clf)\n",
    "])\n",
    "\n",
    "pipe.fit(X, y)\n",
    "\n",
    "training_time = time.time() - start_time"
   ]
  },
  {
   "cell_type": "code",
   "execution_count": 35,
   "id": "f01e650f",
   "metadata": {},
   "outputs": [
    {
     "data": {
      "text/plain": [
       "Pipeline(steps=[('vectorizer_tfidf', TfidfVectorizer()),\n",
       "                ('model',\n",
       "                 SelfTrainingClassifier(base_estimator=DecisionTreeClassifier(criterion='entropy'),\n",
       "                                        max_iter=None, verbose=True))])"
      ]
     },
     "execution_count": 35,
     "metadata": {},
     "output_type": "execute_result"
    }
   ],
   "source": [
    "pipe"
   ]
  },
  {
   "cell_type": "code",
   "execution_count": 36,
   "id": "b0ea572e",
   "metadata": {},
   "outputs": [
    {
     "data": {
      "text/plain": [
       "28.349563360214233"
      ]
     },
     "execution_count": 36,
     "metadata": {},
     "output_type": "execute_result"
    }
   ],
   "source": [
    "training_time"
   ]
  },
  {
   "cell_type": "code",
   "execution_count": 37,
   "id": "8c35158b",
   "metadata": {},
   "outputs": [
    {
     "data": {
      "text/plain": [
       "0.9284682080924855"
      ]
     },
     "execution_count": 37,
     "metadata": {},
     "output_type": "execute_result"
    }
   ],
   "source": [
    "y_pred = pipe.predict(labeled_df['sentence'])\n",
    "accuracy = accuracy_score(labeled_df['hate'], y_pred)\n",
    "accuracy"
   ]
  },
  {
   "cell_type": "code",
   "execution_count": 38,
   "id": "c234981e",
   "metadata": {},
   "outputs": [
    {
     "data": {
      "text/plain": [
       "0.6184971098265896"
      ]
     },
     "execution_count": 38,
     "metadata": {},
     "output_type": "execute_result"
    }
   ],
   "source": [
    "y_pred = pipe.predict(test_df['sentence'])\n",
    "accuracy = accuracy_score(test_df['hate'], y_pred)\n",
    "accuracy"
   ]
  },
  {
   "cell_type": "code",
   "execution_count": 39,
   "id": "99594005",
   "metadata": {},
   "outputs": [
    {
     "name": "stdout",
     "output_type": "stream",
     "text": [
      "              precision    recall  f1-score   support\n",
      "\n",
      "           0       0.64      0.58      0.61       529\n",
      "           1       0.60      0.66      0.63       509\n",
      "\n",
      "    accuracy                           0.62      1038\n",
      "   macro avg       0.62      0.62      0.62      1038\n",
      "weighted avg       0.62      0.62      0.62      1038\n",
      "\n"
     ]
    }
   ],
   "source": [
    "print(classification_report(test_df['hate'], y_pred, labels=[0, 1]))"
   ]
  },
  {
   "cell_type": "code",
   "execution_count": 40,
   "id": "7ede1f9a",
   "metadata": {},
   "outputs": [
    {
     "data": {
      "image/png": "[encoded data removed]",
      "text/plain": [
       "<Figure size 576x360 with 2 Axes>"
      ]
     },
     "metadata": {
      "needs_background": "light"
     },
     "output_type": "display_data"
    }
   ],
   "source": [
    "cm = confusion_matrix(test_df['hate'], y_pred)\n",
    "\n",
    "%matplotlib inline\n",
    "import matplotlib.pyplot as plt\n",
    "import seaborn as sn\n",
    "\n",
    "plt.figure(figsize=(8, 5))\n",
    "sn.heatmap(cm, annot=True, fmt='d')  \n",
    "plt.xlabel('Predicted')\n",
    "plt.ylabel('Truth')\n",
    "\n",
    "plt.show()"
   ]
  },
  {
   "cell_type": "markdown",
   "id": "c5fcf977",
   "metadata": {},
   "source": [
    "## Multinomial Naive Bayes"
   ]
  },
  {
   "cell_type": "code",
   "execution_count": 19,
   "id": "b3c03802",
   "metadata": {},
   "outputs": [],
   "source": [
    "from sklearn.naive_bayes import MultinomialNB"
   ]
  },
  {
   "cell_type": "code",
   "execution_count": 24,
   "id": "584d3cf5",
   "metadata": {},
   "outputs": [
    {
     "name": "stdout",
     "output_type": "stream",
     "text": [
      "End of iteration 1, added 2101 new labels.\n",
      "End of iteration 2, added 1832 new labels.\n",
      "End of iteration 3, added 781 new labels.\n",
      "End of iteration 4, added 311 new labels.\n",
      "End of iteration 5, added 138 new labels.\n",
      "End of iteration 6, added 76 new labels.\n",
      "End of iteration 7, added 49 new labels.\n",
      "End of iteration 8, added 15 new labels.\n",
      "End of iteration 9, added 8 new labels.\n",
      "End of iteration 10, added 12 new labels.\n",
      "End of iteration 11, added 2 new labels.\n",
      "End of iteration 12, added 3 new labels.\n",
      "End of iteration 13, added 1 new labels.\n"
     ]
    }
   ],
   "source": [
    "start_time = time.time()\n",
    "\n",
    "st_clf = SelfTrainingClassifier(\n",
    "    base_estimator = MultinomialNB(),\n",
    "    threshold=.75,\n",
    "    max_iter=None,\n",
    "    verbose = True)\n",
    "\n",
    "pipe = Pipeline([\n",
    "    ('vectorizer_tfidf',TfidfVectorizer()),  \n",
    "    ('model', st_clf)\n",
    "])\n",
    "\n",
    "pipe.fit(X, y)\n",
    "\n",
    "training_time = time.time() - start_time"
   ]
  },
  {
   "cell_type": "code",
   "execution_count": 25,
   "id": "53aae19c",
   "metadata": {},
   "outputs": [
    {
     "data": {
      "text/plain": [
       "0.7341040462427746"
      ]
     },
     "execution_count": 25,
     "metadata": {},
     "output_type": "execute_result"
    }
   ],
   "source": [
    "y_pred = pipe.predict(labeled_df['sentence'])\n",
    "accuracy = accuracy_score(labeled_df['hate'], y_pred)\n",
    "accuracy"
   ]
  },
  {
   "cell_type": "code",
   "execution_count": 26,
   "id": "3bad260d",
   "metadata": {},
   "outputs": [
    {
     "data": {
      "text/plain": [
       "0.6541425818882466"
      ]
     },
     "execution_count": 26,
     "metadata": {},
     "output_type": "execute_result"
    }
   ],
   "source": [
    "y_pred = pipe.predict(test_df['sentence'])\n",
    "accuracy = accuracy_score(test_df['hate'], y_pred)\n",
    "accuracy"
   ]
  },
  {
   "cell_type": "code",
   "execution_count": 27,
   "id": "b6ac8bb6",
   "metadata": {},
   "outputs": [
    {
     "name": "stdout",
     "output_type": "stream",
     "text": [
      "              precision    recall  f1-score   support\n",
      "\n",
      "           0       0.64      0.74      0.68       529\n",
      "           1       0.68      0.57      0.62       509\n",
      "\n",
      "    accuracy                           0.65      1038\n",
      "   macro avg       0.66      0.65      0.65      1038\n",
      "weighted avg       0.66      0.65      0.65      1038\n",
      "\n"
     ]
    }
   ],
   "source": [
    "print(classification_report(test_df['hate'], y_pred, labels=[0, 1]))"
   ]
  },
  {
   "cell_type": "code",
   "execution_count": 28,
   "id": "7ed94513",
   "metadata": {},
   "outputs": [
    {
     "data": {
      "image/png": "[encoded data removed]",
      "text/plain": [
       "<Figure size 576x360 with 2 Axes>"
      ]
     },
     "metadata": {
      "needs_background": "light"
     },
     "output_type": "display_data"
    }
   ],
   "source": [
    "cm = confusion_matrix(test_df['hate'], y_pred)\n",
    "\n",
    "%matplotlib inline\n",
    "import matplotlib.pyplot as plt\n",
    "import seaborn as sn\n",
    "\n",
    "plt.figure(figsize=(8, 5))\n",
    "sn.heatmap(cm, annot=True, fmt='d')  \n",
    "plt.xlabel('Predicted')\n",
    "plt.ylabel('Truth')\n",
    "\n",
    "plt.show()"
   ]
  },
  {
   "cell_type": "markdown",
   "id": "9df54c2c",
   "metadata": {},
   "source": [
    "## KNN"
   ]
  },
  {
   "cell_type": "code",
   "execution_count": 29,
   "id": "fd0f982e",
   "metadata": {},
   "outputs": [],
   "source": [
    "from sklearn.neighbors import KNeighborsClassifier"
   ]
  },
  {
   "cell_type": "code",
   "execution_count": 50,
   "id": "0ecf3079",
   "metadata": {},
   "outputs": [
    {
     "name": "stdout",
     "output_type": "stream",
     "text": [
      "End of iteration 1, added 7024 new labels.\n",
      "End of iteration 2, added 959 new labels.\n",
      "End of iteration 3, added 285 new labels.\n",
      "End of iteration 4, added 54 new labels.\n",
      "End of iteration 5, added 26 new labels.\n",
      "End of iteration 6, added 5 new labels.\n"
     ]
    }
   ],
   "source": [
    "start_time = time.time()\n",
    "\n",
    "st_clf = SelfTrainingClassifier(\n",
    "    base_estimator = KNeighborsClassifier(n_neighbors=3),\n",
    "    threshold=.75,\n",
    "    max_iter=None,\n",
    "    verbose = True)\n",
    "\n",
    "pipe = Pipeline([\n",
    "    ('vectorizer_tfidf',TfidfVectorizer()),  \n",
    "    ('model', st_clf)\n",
    "])\n",
    "\n",
    "pipe.fit(X, y)\n",
    "\n",
    "training_time = time.time() - start_time"
   ]
  },
  {
   "cell_type": "code",
   "execution_count": 51,
   "id": "a302da4f",
   "metadata": {},
   "outputs": [
    {
     "data": {
      "text/plain": [
       "0.7232658959537572"
      ]
     },
     "execution_count": 51,
     "metadata": {},
     "output_type": "execute_result"
    }
   ],
   "source": [
    "y_pred = pipe.predict(labeled_df['sentence'])\n",
    "accuracy = accuracy_score(labeled_df['hate'], y_pred)\n",
    "accuracy"
   ]
  },
  {
   "cell_type": "code",
   "execution_count": 52,
   "id": "04e0254e",
   "metadata": {},
   "outputs": [
    {
     "data": {
      "text/plain": [
       "0.5857418111753372"
      ]
     },
     "execution_count": 52,
     "metadata": {},
     "output_type": "execute_result"
    }
   ],
   "source": [
    "y_pred = pipe.predict(test_df['sentence'])\n",
    "accuracy = accuracy_score(test_df['hate'], y_pred)\n",
    "accuracy"
   ]
  },
  {
   "cell_type": "code",
   "execution_count": 53,
   "id": "dd12b7b0",
   "metadata": {},
   "outputs": [
    {
     "name": "stdout",
     "output_type": "stream",
     "text": [
      "              precision    recall  f1-score   support\n",
      "\n",
      "           0       0.64      0.44      0.52       529\n",
      "           1       0.56      0.74      0.64       509\n",
      "\n",
      "    accuracy                           0.59      1038\n",
      "   macro avg       0.60      0.59      0.58      1038\n",
      "weighted avg       0.60      0.59      0.58      1038\n",
      "\n"
     ]
    }
   ],
   "source": [
    "print(classification_report(test_df['hate'], y_pred, labels=[0, 1]))"
   ]
  },
  {
   "cell_type": "code",
   "execution_count": 54,
   "id": "287e3e9f",
   "metadata": {},
   "outputs": [
    {
     "data": {
      "image/png": "[encoded data removed]",
      "text/plain": [
       "<Figure size 576x360 with 2 Axes>"
      ]
     },
     "metadata": {
      "needs_background": "light"
     },
     "output_type": "display_data"
    }
   ],
   "source": [
    "cm = confusion_matrix(test_df['hate'], y_pred)\n",
    "\n",
    "%matplotlib inline\n",
    "import matplotlib.pyplot as plt\n",
    "import seaborn as sn\n",
    "\n",
    "plt.figure(figsize=(8, 5))\n",
    "sn.heatmap(cm, annot=True, fmt='d')  \n",
    "plt.xlabel('Predicted')\n",
    "plt.ylabel('Truth')\n",
    "\n",
    "plt.show()"
   ]
  },
  {
   "cell_type": "code",
   "execution_count": null,
   "id": "c5ca8135",
   "metadata": {},
   "outputs": [],
   "source": []
  }
 ],
 "metadata": {
  "kernelspec": {
   "display_name": "Python 3 (ipykernel)",
   "language": "python",
   "name": "python3"
  },
  "language_info": {
   "codemirror_mode": {
    "name": "ipython",
    "version": 3
   },
   "file_extension": ".py",
   "mimetype": "text/x-python",
   "name": "python",
   "nbconvert_exporter": "python",
   "pygments_lexer": "ipython3",
   "version": "3.9.12"
  }
 },
 "nbformat": 4,
 "nbformat_minor": 5
}
